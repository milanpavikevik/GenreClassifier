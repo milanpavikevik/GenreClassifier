{
  "nbformat": 4,
  "nbformat_minor": 0,
  "metadata": {
    "colab": {
      "name": "YoutubeDownload.ipynb",
      "provenance": [],
      "collapsed_sections": [],
      "include_colab_link": true
    },
    "kernelspec": {
      "name": "python3",
      "display_name": "Python 3"
    }
  },
  "cells": [
    {
      "cell_type": "markdown",
      "metadata": {
        "id": "view-in-github",
        "colab_type": "text"
      },
      "source": [
        "<a href=\"https://colab.research.google.com/github/milanpavikevik/GenreClassifier/blob/data_scrape/YoutubeDownload.ipynb\" target=\"_parent\"><img src=\"https://colab.research.google.com/assets/colab-badge.svg\" alt=\"Open In Colab\"/></a>"
      ]
    },
    {
      "cell_type": "code",
      "metadata": {
        "id": "7YW11nzEHa-Z",
        "colab_type": "code",
        "colab": {}
      },
      "source": [
        "from PIL import Image\n",
        "from google.colab import files\n",
        "from bs4 import BeautifulSoup\n",
        "import requests\n",
        "import os\n",
        "import urllib\n",
        "import numpy as np\n",
        "import urllib.request\n"
      ],
      "execution_count": null,
      "outputs": []
    },
    {
      "cell_type": "code",
      "metadata": {
        "id": "eGVfKYt-Yvad",
        "colab_type": "code",
        "colab": {
          "base_uri": "https://localhost:8080/",
          "height": 121
        },
        "outputId": "00e6e2d7-9785-4a34-c7da-4cce62bfe571"
      },
      "source": [
        "!pip install youtube_dl\n"
      ],
      "execution_count": null,
      "outputs": [
        {
          "output_type": "stream",
          "text": [
            "Collecting youtube_dl\n",
            "\u001b[?25l  Downloading https://files.pythonhosted.org/packages/a7/d2/6934d56f95a2aaa8b3aad67dea48d1864b975298e1cab96cf816b6771746/youtube_dl-2020.9.6-py2.py3-none-any.whl (1.8MB)\n",
            "\u001b[K     |████████████████████████████████| 1.8MB 2.7MB/s \n",
            "\u001b[?25hInstalling collected packages: youtube-dl\n",
            "Successfully installed youtube-dl-2020.9.6\n"
          ],
          "name": "stdout"
        }
      ]
    },
    {
      "cell_type": "code",
      "metadata": {
        "id": "xeImUuifOSy3",
        "colab_type": "code",
        "colab": {}
      },
      "source": [
        "#Create directories for genres\n",
        "!rm -rf rock\n",
        "!rm -rf hip-hop\n",
        "!rm -rf metal\n",
        "!mkdir -p rock\n",
        "!mkdir -p hip-hop\n",
        "!mkdir -p metal"
      ],
      "execution_count": null,
      "outputs": []
    },
    {
      "cell_type": "code",
      "metadata": {
        "id": "3srO8h2tOi6V",
        "colab_type": "code",
        "colab": {}
      },
      "source": [
        "#agent for successful web scraping\n",
        "usr_agent = {\n",
        "    'User-Agent': 'Mozilla/5.0 (X11; Linux x86_64) AppleWebKit/537.11 (KHTML, like Gecko) Chrome/23.0.1271.64 Safari/537.11',\n",
        "    'Accept': 'text/html,application/xhtml+xml,application/xml;q=0.9,*/*;q=0.8',\n",
        "    'Accept-Charset': 'ISO-8859-1,utf-8;q=0.7,*;q=0.3',\n",
        "    'Accept-Encoding': 'none',\n",
        "    'Accept-Language': 'en-US,en;q=0.8',\n",
        "    'Connection': 'keep-alive',\n",
        "}"
      ],
      "execution_count": null,
      "outputs": []
    },
    {
      "cell_type": "code",
      "metadata": {
        "id": "OLmnC9SzwfJj",
        "colab_type": "code",
        "colab": {}
      },
      "source": [
        "genres = ['pop', 'rock','hip-hop/rap','electronic', 'techno','makedonski narodni pesni','turbo folk','metal','jazz','classical','opera']"
      ],
      "execution_count": null,
      "outputs": []
    },
    {
      "cell_type": "code",
      "metadata": {
        "id": "6vJlikpG61vZ",
        "colab_type": "code",
        "colab": {
          "base_uri": "https://localhost:8080/",
          "height": 1000
        },
        "outputId": "980a4619-52ea-4d15-f33b-06598fc16895"
      },
      "source": [
        "!pip install selenium\n",
        "!apt-get update # to update ubuntu to correctly run apt install\n",
        "!apt install chromium-chromedriver\n",
        "!cp /usr/lib/chromium-browser/chromedriver /usr/bin\n",
        "import sys\n",
        "sys.path.insert(0,'/usr/lib/chromium-browser/chromedriver')\n",
        "from selenium import webdriver\n",
        "chrome_options = webdriver.ChromeOptions()\n",
        "chrome_options.add_argument('--headless')\n",
        "chrome_options.add_argument('--no-sandbox')\n",
        "chrome_options.add_argument('--disable-dev-shm-usage')\n",
        "wd = webdriver.Chrome('chromedriver',chrome_options=chrome_options)"
      ],
      "execution_count": null,
      "outputs": [
        {
          "output_type": "stream",
          "text": [
            "Collecting selenium\n",
            "\u001b[?25l  Downloading https://files.pythonhosted.org/packages/80/d6/4294f0b4bce4de0abf13e17190289f9d0613b0a44e5dd6a7f5ca98459853/selenium-3.141.0-py2.py3-none-any.whl (904kB)\n",
            "\u001b[K     |████████████████████████████████| 911kB 2.7MB/s \n",
            "\u001b[?25hRequirement already satisfied: urllib3 in /usr/local/lib/python3.6/dist-packages (from selenium) (1.24.3)\n",
            "Installing collected packages: selenium\n",
            "Successfully installed selenium-3.141.0\n",
            "Get:1 https://cloud.r-project.org/bin/linux/ubuntu bionic-cran35/ InRelease [3,626 B]\n",
            "Ign:2 https://developer.download.nvidia.com/compute/cuda/repos/ubuntu1804/x86_64  InRelease\n",
            "Get:3 http://security.ubuntu.com/ubuntu bionic-security InRelease [88.7 kB]\n",
            "Get:4 https://cloud.r-project.org/bin/linux/ubuntu bionic-cran35/ Packages [95.7 kB]\n",
            "Ign:5 https://developer.download.nvidia.com/compute/machine-learning/repos/ubuntu1804/x86_64  InRelease\n",
            "Hit:6 https://developer.download.nvidia.com/compute/cuda/repos/ubuntu1804/x86_64  Release\n",
            "Get:7 https://developer.download.nvidia.com/compute/machine-learning/repos/ubuntu1804/x86_64  Release [564 B]\n",
            "Get:8 http://ppa.launchpad.net/graphics-drivers/ppa/ubuntu bionic InRelease [21.3 kB]\n",
            "Get:9 https://developer.download.nvidia.com/compute/machine-learning/repos/ubuntu1804/x86_64  Release.gpg [833 B]\n",
            "Hit:11 http://archive.ubuntu.com/ubuntu bionic InRelease\n",
            "Get:12 https://developer.download.nvidia.com/compute/machine-learning/repos/ubuntu1804/x86_64  Packages [47.5 kB]\n",
            "Get:13 http://archive.ubuntu.com/ubuntu bionic-updates InRelease [88.7 kB]\n",
            "Get:14 http://ppa.launchpad.net/marutter/c2d4u3.5/ubuntu bionic InRelease [15.4 kB]\n",
            "Get:15 http://security.ubuntu.com/ubuntu bionic-security/restricted amd64 Packages [116 kB]\n",
            "Get:16 http://ppa.launchpad.net/graphics-drivers/ppa/ubuntu bionic/main amd64 Packages [43.0 kB]\n",
            "Get:17 http://archive.ubuntu.com/ubuntu bionic-backports InRelease [74.6 kB]\n",
            "Get:18 http://security.ubuntu.com/ubuntu bionic-security/multiverse amd64 Packages [10.1 kB]\n",
            "Get:19 http://security.ubuntu.com/ubuntu bionic-security/universe amd64 Packages [897 kB]\n",
            "Get:20 http://archive.ubuntu.com/ubuntu bionic-updates/universe amd64 Packages [1,425 kB]\n",
            "Get:21 http://ppa.launchpad.net/marutter/c2d4u3.5/ubuntu bionic/main Sources [1,864 kB]\n",
            "Get:22 http://security.ubuntu.com/ubuntu bionic-security/main amd64 Packages [1,089 kB]\n",
            "Get:23 http://archive.ubuntu.com/ubuntu bionic-updates/restricted amd64 Packages [132 kB]\n",
            "Get:24 http://archive.ubuntu.com/ubuntu bionic-updates/multiverse amd64 Packages [27.7 kB]\n",
            "Get:25 http://archive.ubuntu.com/ubuntu bionic-updates/main amd64 Packages [1,384 kB]\n",
            "Get:26 http://ppa.launchpad.net/marutter/c2d4u3.5/ubuntu bionic/main amd64 Packages [900 kB]\n",
            "Fetched 8,325 kB in 6s (1,337 kB/s)\n",
            "Reading package lists... Done\n",
            "Reading package lists... Done\n",
            "Building dependency tree       \n",
            "Reading state information... Done\n",
            "The following package was automatically installed and is no longer required:\n",
            "  libnvidia-common-440\n",
            "Use 'apt autoremove' to remove it.\n",
            "The following additional packages will be installed:\n",
            "  chromium-browser chromium-browser-l10n chromium-codecs-ffmpeg-extra\n",
            "Suggested packages:\n",
            "  webaccounts-chromium-extension unity-chromium-extension adobe-flashplugin\n",
            "The following NEW packages will be installed:\n",
            "  chromium-browser chromium-browser-l10n chromium-chromedriver\n",
            "  chromium-codecs-ffmpeg-extra\n",
            "0 upgraded, 4 newly installed, 0 to remove and 74 not upgraded.\n",
            "Need to get 79.2 MB of archives.\n",
            "After this operation, 268 MB of additional disk space will be used.\n",
            "Get:1 http://archive.ubuntu.com/ubuntu bionic-updates/universe amd64 chromium-codecs-ffmpeg-extra amd64 85.0.4183.83-0ubuntu0.18.04.2 [1,118 kB]\n",
            "Get:2 http://archive.ubuntu.com/ubuntu bionic-updates/universe amd64 chromium-browser amd64 85.0.4183.83-0ubuntu0.18.04.2 [70.3 MB]\n",
            "Get:3 http://archive.ubuntu.com/ubuntu bionic-updates/universe amd64 chromium-browser-l10n all 85.0.4183.83-0ubuntu0.18.04.2 [3,431 kB]\n",
            "Get:4 http://archive.ubuntu.com/ubuntu bionic-updates/universe amd64 chromium-chromedriver amd64 85.0.4183.83-0ubuntu0.18.04.2 [4,412 kB]\n",
            "Fetched 79.2 MB in 9s (8,588 kB/s)\n",
            "Selecting previously unselected package chromium-codecs-ffmpeg-extra.\n",
            "(Reading database ... 144579 files and directories currently installed.)\n",
            "Preparing to unpack .../chromium-codecs-ffmpeg-extra_85.0.4183.83-0ubuntu0.18.04.2_amd64.deb ...\n",
            "Unpacking chromium-codecs-ffmpeg-extra (85.0.4183.83-0ubuntu0.18.04.2) ...\n",
            "Selecting previously unselected package chromium-browser.\n",
            "Preparing to unpack .../chromium-browser_85.0.4183.83-0ubuntu0.18.04.2_amd64.deb ...\n",
            "Unpacking chromium-browser (85.0.4183.83-0ubuntu0.18.04.2) ...\n",
            "Selecting previously unselected package chromium-browser-l10n.\n",
            "Preparing to unpack .../chromium-browser-l10n_85.0.4183.83-0ubuntu0.18.04.2_all.deb ...\n",
            "Unpacking chromium-browser-l10n (85.0.4183.83-0ubuntu0.18.04.2) ...\n",
            "Selecting previously unselected package chromium-chromedriver.\n",
            "Preparing to unpack .../chromium-chromedriver_85.0.4183.83-0ubuntu0.18.04.2_amd64.deb ...\n",
            "Unpacking chromium-chromedriver (85.0.4183.83-0ubuntu0.18.04.2) ...\n",
            "Setting up chromium-codecs-ffmpeg-extra (85.0.4183.83-0ubuntu0.18.04.2) ...\n",
            "Setting up chromium-browser (85.0.4183.83-0ubuntu0.18.04.2) ...\n",
            "update-alternatives: using /usr/bin/chromium-browser to provide /usr/bin/x-www-browser (x-www-browser) in auto mode\n",
            "update-alternatives: using /usr/bin/chromium-browser to provide /usr/bin/gnome-www-browser (gnome-www-browser) in auto mode\n",
            "Setting up chromium-chromedriver (85.0.4183.83-0ubuntu0.18.04.2) ...\n",
            "Setting up chromium-browser-l10n (85.0.4183.83-0ubuntu0.18.04.2) ...\n",
            "Processing triggers for hicolor-icon-theme (0.17-2) ...\n",
            "Processing triggers for mime-support (3.60ubuntu1) ...\n",
            "Processing triggers for man-db (2.8.3-2ubuntu0.1) ...\n",
            "cp: '/usr/lib/chromium-browser/chromedriver' and '/usr/bin/chromedriver' are the same file\n"
          ],
          "name": "stdout"
        },
        {
          "output_type": "stream",
          "text": [
            "/usr/local/lib/python3.6/dist-packages/ipykernel_launcher.py:12: DeprecationWarning: use options instead of chrome_options\n",
            "  if sys.path[0] == '':\n"
          ],
          "name": "stderr"
        }
      ]
    },
    {
      "cell_type": "code",
      "metadata": {
        "id": "tBSFD2on7nsc",
        "colab_type": "code",
        "colab": {}
      },
      "source": [
        "from selenium.webdriver.common.keys import Keys\n",
        "wd.get(\"https://www.youtube.com/\")"
      ],
      "execution_count": null,
      "outputs": []
    },
    {
      "cell_type": "code",
      "metadata": {
        "id": "NEQi9XGg8Uv8",
        "colab_type": "code",
        "colab": {
          "base_uri": "https://localhost:8080/",
          "height": 70
        },
        "outputId": "188d8c31-32e2-49ba-b161-09e2795f3bee"
      },
      "source": [
        "dict_urls = {'pop':[],'rock':[], 'hip-hop/rap':[], 'electronic':[], 'techno':[], 'makedonski narodni pesni':[],'turbo folk':[],'metal':[],'jazz':[],'classical':[], 'opera':[]}\n",
        "print(dict_urls)\n",
        "dict_url = {'pop':None,'rock':None, 'hip-hop/rap':None, 'electronic':None, 'techno':None, 'makedonski narodni pesni':None,'turbo folk':None,'metal':None,'jazz':None,'classical':None, 'opera':None}\n",
        "print(dict_url)"
      ],
      "execution_count": null,
      "outputs": [
        {
          "output_type": "stream",
          "text": [
            "{'pop': [], 'rock': [], 'hip-hop/rap': [], 'electronic': [], 'techno': [], 'makedonski narodni pesni': [], 'turbo folk': [], 'metal': [], 'jazz': [], 'classical': [], 'opera': []}\n",
            "{'pop': None, 'rock': None, 'hip-hop/rap': None, 'electronic': None, 'techno': None, 'makedonski narodni pesni': None, 'turbo folk': None, 'metal': None, 'jazz': None, 'classical': None, 'opera': None}\n"
          ],
          "name": "stdout"
        }
      ]
    },
    {
      "cell_type": "code",
      "metadata": {
        "id": "AboEyzWQSdgI",
        "colab_type": "code",
        "colab": {}
      },
      "source": [
        "import time\n"
      ],
      "execution_count": null,
      "outputs": []
    },
    {
      "cell_type": "code",
      "metadata": {
        "id": "BY1AnSIa9WzA",
        "colab_type": "code",
        "colab": {
          "base_uri": "https://localhost:8080/",
          "height": 202
        },
        "outputId": "a254a42b-b674-407b-996f-df8fff95cc7c"
      },
      "source": [
        "for genre in genres:\n",
        "  wd.get(\"https://www.youtube.com/\")\n",
        "  try:\n",
        "    #try:\n",
        "    search_box = wd.find_element_by_xpath('/html/body/ytd-app/div/div/ytd-masthead/div[3]/div[2]/ytd-searchbox/form/div/div[1]/input').send_keys(genre)\n",
        "    wd.find_element_by_xpath('//*[@id=\"search-icon-legacy\"]').click()\n",
        "    time.sleep(2)\n",
        "    wd.find_element_by_xpath('//*[@id=\"container\"]/ytd-toggle-button-renderer').click()\n",
        "    time.sleep(1)\n",
        "    wd.find_element_by_xpath('/html/body/ytd-app/div/ytd-page-manager/ytd-search/div[1]/ytd-two-column-search-results-renderer/div/ytd-section-list-renderer/div[1]/div[2]/ytd-search-sub-menu-renderer/div[1]/iron-collapse/div/ytd-search-filter-group-renderer[2]/ytd-search-filter-renderer[3]/a').click()\n",
        "    wd.get(wd.current_url)\n",
        "    wd.find_element_by_xpath('/html/body/ytd-app/div/ytd-page-manager/ytd-search/div[1]/ytd-two-column-search-results-renderer/div/ytd-section-list-renderer/div[2]/ytd-item-section-renderer/div[3]/ytd-playlist-renderer[1]/ytd-playlist-thumbnail/a').click()\n",
        "    print(wd.current_url)\n",
        "    dict_url[genre] = wd.current_url\n",
        "  except:\n",
        "    print(f'There is a problem with the genre {genre}')\n",
        "  "
      ],
      "execution_count": null,
      "outputs": [
        {
          "output_type": "stream",
          "text": [
            "https://www.youtube.com/watch?v=SlPhMPnQ58k&list=PL4o29bINVT4EG_y-k5jGoOu3-Am8Nvi10\n",
            "https://www.youtube.com/watch?v=kXYiU_JCYtU&list=PL6Lt9p1lIRZ311J9ZHuzkR5A3xesae2pk\n",
            "https://www.youtube.com/watch?v=meFxq3-mNEc&list=PLxhnpe8pN3TlMilD9JLcwNmjqf2J47cRU\n",
            "https://www.youtube.com/watch?v=foE1mO2yM04&list=PL7wr9BYcCCyNb0IhqqebdLEMkklMSOttA\n",
            "https://www.youtube.com/watch?v=Lgs9QUtWc3M&list=PLnuL2ltPXh02ThmKDdTrxCH3EjOupmRq2\n",
            "https://www.youtube.com/watch?v=jAHKy_rExWM&list=PL9629A9FA6085C586\n",
            "https://www.youtube.com/watch?v=qeAEdU4p5Cg&list=PL2ILAkvYYMWz16csJSeOvy59qsMtQGtoQ\n",
            "https://www.youtube.com/watch?v=xnKhsTXoKCI&list=PLhQCJTkrHOwSX8LUnIMgaTq3chP1tiTut\n",
            "https://www.youtube.com/watch?v=RPfFhfSuUZ4&list=PL8F6B0753B2CCA128\n",
            "https://www.youtube.com/watch?v=9E6b3swbnWg&list=PLz9q8tuDHcRfQ--1tUrZj4xC1pShtz9cD\n",
            "https://www.youtube.com/watch?v=Uau48wh5CeI&list=PLDBt7LIJrBCVjfCZnQxBqnMtQ74IJW0uT\n"
          ],
          "name": "stdout"
        }
      ]
    },
    {
      "cell_type": "code",
      "metadata": {
        "id": "WF4u-nQdT6Yw",
        "colab_type": "code",
        "colab": {
          "base_uri": "https://localhost:8080/",
          "height": 202
        },
        "outputId": "e0ce95fc-e155-4cdf-c26f-52e72893a52c"
      },
      "source": [
        "for key in dict_url:\n",
        "  print(key,dict_url[key])"
      ],
      "execution_count": null,
      "outputs": [
        {
          "output_type": "stream",
          "text": [
            "pop https://www.youtube.com/watch?v=SlPhMPnQ58k&list=PL4o29bINVT4EG_y-k5jGoOu3-Am8Nvi10\n",
            "rock https://www.youtube.com/watch?v=kXYiU_JCYtU&list=PL6Lt9p1lIRZ311J9ZHuzkR5A3xesae2pk\n",
            "hip-hop/rap https://www.youtube.com/watch?v=meFxq3-mNEc&list=PLxhnpe8pN3TlMilD9JLcwNmjqf2J47cRU\n",
            "electronic https://www.youtube.com/watch?v=foE1mO2yM04&list=PL7wr9BYcCCyNb0IhqqebdLEMkklMSOttA\n",
            "techno https://www.youtube.com/watch?v=Lgs9QUtWc3M&list=PLnuL2ltPXh02ThmKDdTrxCH3EjOupmRq2\n",
            "makedonski narodni pesni https://www.youtube.com/watch?v=jAHKy_rExWM&list=PL9629A9FA6085C586\n",
            "turbo folk https://www.youtube.com/watch?v=qeAEdU4p5Cg&list=PL2ILAkvYYMWz16csJSeOvy59qsMtQGtoQ\n",
            "metal https://www.youtube.com/watch?v=xnKhsTXoKCI&list=PLhQCJTkrHOwSX8LUnIMgaTq3chP1tiTut\n",
            "jazz https://www.youtube.com/watch?v=RPfFhfSuUZ4&list=PL8F6B0753B2CCA128\n",
            "classical https://www.youtube.com/watch?v=9E6b3swbnWg&list=PLz9q8tuDHcRfQ--1tUrZj4xC1pShtz9cD\n",
            "opera https://www.youtube.com/watch?v=Uau48wh5CeI&list=PLDBt7LIJrBCVjfCZnQxBqnMtQ74IJW0uT\n"
          ],
          "name": "stdout"
        }
      ]
    },
    {
      "cell_type": "code",
      "metadata": {
        "id": "cucWxy0IOteK",
        "colab_type": "code",
        "colab": {
          "base_uri": "https://localhost:8080/",
          "height": 238
        },
        "outputId": "e15afa74-c9db-4b64-90cf-09a8fbef5307"
      },
      "source": [
        "# playlist url for top metal songs on youtube\n",
        "cntr=0\n",
        "categoriSoLinkovi=[]\n",
        "for key in dict_url:\n",
        "  genre = key\n",
        "  searchurl = dict_url[key]\n",
        "  response = requests.get(searchurl, headers=usr_agent)\n",
        "  # list of song youtube urls \n",
        "  listofIdSongs = []\n",
        "  html = response.text\n",
        "  # parse the website\n",
        "  soup = BeautifulSoup(html, 'html.parser')\n",
        "  #find the links from the source page\n",
        "  results = soup.findAll('script')\n",
        "  fullText = str(results[-5])\n",
        "  # default youtube url without id\n",
        "  youtubeUrl = \"https://www.youtube.com/watch?v=\"\n",
        "  posleden=\"\"\n",
        "  #print(fullText)\n",
        "  for i in range (0,len(fullText)):\n",
        "    if (fullText[i]=='\"' and fullText[i+1]=='v' and fullText[i+2]=='i' and fullText[i+3]=='d' and fullText[i+4]=='e' and fullText[i+5]=='o' and fullText[i+6]=='I' and fullText[i+7]=='d' and fullText[i+8]=='\"' ):\n",
        "      if posleden != fullText[(i+11):(i+22)]:\n",
        "        listofIdSongs.append (youtubeUrl + fullText[(i+11):(i+22)])\n",
        "      posleden= fullText[(i+11):(i+22)]\n",
        "  cntr+=len(listofIdSongs)\n",
        "  dict_urls[genre] = listofIdSongs\n",
        "  print (f'sample links from {len(listofIdSongs)} {genre} songs from the playlist:',listofIdSongs[0:120])  \n",
        "  categoriSoLinkovi.append(listofIdSongs)\n",
        "print(f'There are in total {cntr} samples!')  \n"
      ],
      "execution_count": null,
      "outputs": [
        {
          "output_type": "stream",
          "text": [
            "sample links from 244 pop songs from the playlist: ['https://www.youtube.com/watch?v=oygrmJFKYZY', 'https://www.youtube.com/watch?v=HCjNJDNzw8Y', 'https://www.youtube.com/watch?v=SlPhMPnQ58k', 'https://www.youtube.com/watch?v=aJOTlE1K90k', 'https://www.youtube.com/watch?v=SlPhMPnQ58k', 'https://www.youtube.com/watch?v=aJOTlE1K90k', 'https://www.youtube.com/watch?v=JPJjwHAIny4', 'https://www.youtube.com/watch?v=vZA5heWazIQ', 'https://www.youtube.com/watch?v=nIjVuRTm-dc', 'https://www.youtube.com/watch?v=09R8_2nJtjg', 'https://www.youtube.com/watch?v=rtOvBOTyX00', 'https://www.youtube.com/watch?v=Iic_OOZKexw', 'https://www.youtube.com/watch?v=hT_nvWreIhg', 'https://www.youtube.com/watch?v=cBVGlBWQzuc', 'https://www.youtube.com/watch?v=ANS9sSJA9Yc', 'https://www.youtube.com/watch?v=i8VKeDheoUM', 'https://www.youtube.com/watch?v=2Vv-BfVoq4g', 'https://www.youtube.com/watch?v=bo_efYhYU2A', 'https://www.youtube.com/watch?v=5Wiio4KoGe8', 'https://www.youtube.com/watch?v=lp-EO5I60KA', 'https://www.youtube.com/watch?v=zABLecsR5UE', 'https://www.youtube.com/watch?v=RBumgq5yVrA', 'https://www.youtube.com/watch?v=450p7goxZqg', 'https://www.youtube.com/watch?v=ShZ978fBl6Y', 'https://www.youtube.com/watch?v=SlPhMPnQ58k', 'https://www.youtube.com/watch?v=oygrmJFKYZY', 'https://www.youtube.com/watch?v=4NRXx6U8ABQ', 'https://www.youtube.com/watch?v=bNU_AA0aALM', 'https://www.youtube.com/watch?v=gejbbL1AaJk', 'https://www.youtube.com/watch?v=V_jHc_n0p9c', 'https://www.youtube.com/watch?v=E07s5ZYygMg', 'https://www.youtube.com/watch?v=pok8H_KF1FA', 'https://www.youtube.com/watch?v=9p2wMpVVtXg', 'https://www.youtube.com/watch?v=gZIsMh3IS7E', 'https://www.youtube.com/watch?v=UNZqm3dxd2w', 'https://www.youtube.com/watch?v=Nj2U6rhnucI', 'https://www.youtube.com/watch?v=l7lvdB9FmuE', 'https://www.youtube.com/watch?v=dqRZDebPIGs', 'https://www.youtube.com/watch?v=L7mfjvdnPno', 'https://www.youtube.com/watch?v=sPC1eM8J4EE', 'https://www.youtube.com/watch?v=VF-r5TtlT9w', 'https://www.youtube.com/watch?v=kZRqYAfj19o', 'https://www.youtube.com/watch?v=9HDEHj2yzew', 'https://www.youtube.com/watch?v=16YnOUnbE6s', 'https://www.youtube.com/watch?v=wXhTHyIgQ_U', 'https://www.youtube.com/watch?v=fHI8X4OXluQ', 'https://www.youtube.com/watch?v=1DpH-icPpl0', 'https://www.youtube.com/watch?v=EgBJmlPo8Xw', 'https://www.youtube.com/watch?v=6fd2kkLmSDQ', 'https://www.youtube.com/watch?v=yMlKJGKyoCo', 'https://www.youtube.com/watch?v=q0hyYWKXF0Q', 'https://www.youtube.com/watch?v=EzKkl64rRbM', 'https://www.youtube.com/watch?v=5L6xyaeiV58', 'https://www.youtube.com/watch?v=8nBFqZppIF0', 'https://www.youtube.com/watch?v=ia1iuXbEaYQ', 'https://www.youtube.com/watch?v=vImvzQCb0o8', 'https://www.youtube.com/watch?v=M-j159LFwGw', 'https://www.youtube.com/watch?v=C5RrNaCfUXE', 'https://www.youtube.com/watch?v=AqAJLh9wuZ0', 'https://www.youtube.com/watch?v=zlJDTxahav0', 'https://www.youtube.com/watch?v=jnwDkVo6DxA', 'https://www.youtube.com/watch?v=1DmwyNkmTJ0', 'https://www.youtube.com/watch?v=uQcQsIL5UNU', 'https://www.youtube.com/watch?v=CMla2ZIz7-4', 'https://www.youtube.com/watch?v=Pkh8UtuejGw', 'https://www.youtube.com/watch?v=JGwWNGJdvx8', 'https://www.youtube.com/watch?v=mj0XInqZMHY', 'https://www.youtube.com/watch?v=PmYypVozQb4', 'https://www.youtube.com/watch?v=tP-zl8ruUKE', 'https://www.youtube.com/watch?v=A48hOToMuRE', 'https://www.youtube.com/watch?v=jTMzLbz9_r0', 'https://www.youtube.com/watch?v=9SRxBTtspYM', 'https://www.youtube.com/watch?v=9TQKyDD9Yig', 'https://www.youtube.com/watch?v=DyDfgMOUjCI', 'https://www.youtube.com/watch?v=S4asq3SicN0', 'https://www.youtube.com/watch?v=QYh6mYIJG2Y', 'https://www.youtube.com/watch?v=r7qovpFAGrQ', 'https://www.youtube.com/watch?v=CnAmeh0-E-U', 'https://www.youtube.com/watch?v=P00HMxdsVZI', 'https://www.youtube.com/watch?v=oOni4BMeMp0', 'https://www.youtube.com/watch?v=lzkKzZmRZk8', 'https://www.youtube.com/watch?v=UZwi9SHgzGY', 'https://www.youtube.com/watch?v=vOXZkm9p_zY', 'https://www.youtube.com/watch?v=fM7_jMD8EIM', 'https://www.youtube.com/watch?v=PjelIssAltY', 'https://www.youtube.com/watch?v=Tztc73r8348', 'https://www.youtube.com/watch?v=aJOTlE1K90k', 'https://www.youtube.com/watch?v=zNl00mOSnJI', 'https://www.youtube.com/watch?v=qC_SxaXL8bs', 'https://www.youtube.com/watch?v=rbHIDVVTSNA', 'https://www.youtube.com/watch?v=x_-j5eLR1Rc', 'https://www.youtube.com/watch?v=dhYOPzcsbGM', 'https://www.youtube.com/watch?v=Srq1FqFPwj0', 'https://www.youtube.com/watch?v=Hue77rbsFlU', 'https://www.youtube.com/watch?v=7T2RonyJ_Ts', 'https://www.youtube.com/watch?v=F-cO2CMue4Q', 'https://www.youtube.com/watch?v=hY1tULEr4-4', 'https://www.youtube.com/watch?v=aEb5gNsmGJ8', 'https://www.youtube.com/watch?v=3XCVM3G3pns', 'https://www.youtube.com/watch?v=8OwVaewDtS8', 'https://www.youtube.com/watch?v=u07cFymU0e0', 'https://www.youtube.com/watch?v=8_JbZvHc92U', 'https://www.youtube.com/watch?v=YrbgUtCfnC0', 'https://www.youtube.com/watch?v=SxGLPVvNjvY', 'https://www.youtube.com/watch?v=LFnV-vb1Bxc', 'https://www.youtube.com/watch?v=bo_efYhYU2A', 'https://www.youtube.com/watch?v=J1OsKJW51HY', 'https://www.youtube.com/watch?v=mt2zvsvkKKo', 'https://www.youtube.com/watch?v=Q33DvcjXA7M', 'https://www.youtube.com/watch?v=u8tdT5pAE34', 'https://www.youtube.com/watch?v=fTNnwzXrVdg', 'https://www.youtube.com/watch?v=SJOgTMP8cs4', 'https://www.youtube.com/watch?v=WXBHCQYxwr0', 'https://www.youtube.com/watch?v=A9hcJgtnm6Q', 'https://www.youtube.com/watch?v=A8N4_cjLXH8', 'https://www.youtube.com/watch?v=ft4jcPSLJfY', 'https://www.youtube.com/watch?v=0H6vdQSXaR4', 'https://www.youtube.com/watch?v=hE2Ira-Cwxo', 'https://www.youtube.com/watch?v=LH4Y1ZUUx2g', 'https://www.youtube.com/watch?v=bPYefBD1Rzs']\n",
            "sample links from 242 rock songs from the playlist: ['https://www.youtube.com/watch?v=eVTXPUF4Oz4', 'https://www.youtube.com/watch?v=BB0DU4DoPP4', 'https://www.youtube.com/watch?v=kXYiU_JCYtU', 'https://www.youtube.com/watch?v=eVTXPUF4Oz4', 'https://www.youtube.com/watch?v=kXYiU_JCYtU', 'https://www.youtube.com/watch?v=ScNNfyq3d_w', 'https://www.youtube.com/watch?v=Gd9OhYroLN0', 'https://www.youtube.com/watch?v=YVkUvmDQ3HY', 'https://www.youtube.com/watch?v=gOMhN-hfMtY', 'https://www.youtube.com/watch?v=fV4DiAyExN0', 'https://www.youtube.com/watch?v=_sXrTpOVnak', 'https://www.youtube.com/watch?v=zsCD5XCu6CM', 'https://www.youtube.com/watch?v=tAGnKpE4NCI', 'https://www.youtube.com/watch?v=3YxaaGgTQYM', 'https://www.youtube.com/watch?v=hTWKbfoikeg', 'https://www.youtube.com/watch?v=v2H4l9RpkwM', 'https://www.youtube.com/watch?v=5anLPw0Efmo', 'https://www.youtube.com/watch?v=uelHwf8o7_U', 'https://www.youtube.com/watch?v=vjVkXlxsO8Q', 'https://www.youtube.com/watch?v=vx2u5uUu3DE', 'https://www.youtube.com/watch?v=8sgycukafqQ', 'https://www.youtube.com/watch?v=Soa3gO7tL-c', 'https://www.youtube.com/watch?v=UprcpdwuwCg', 'https://www.youtube.com/watch?v=yZIummTz9mM', 'https://www.youtube.com/watch?v=kXYiU_JCYtU', 'https://www.youtube.com/watch?v=eVTXPUF4Oz4', 'https://www.youtube.com/watch?v=3YxaaGgTQYM', 'https://www.youtube.com/watch?v=YlUKcNNmywk', 'https://www.youtube.com/watch?v=7QU1nvuxaMA', 'https://www.youtube.com/watch?v=fV4DiAyExN0', 'https://www.youtube.com/watch?v=kPBzTxZQG5Q', 'https://www.youtube.com/watch?v=yKNxeF4KMsY', 'https://www.youtube.com/watch?v=1cQh1ccqu8M', 'https://www.youtube.com/watch?v=8sgycukafqQ', 'https://www.youtube.com/watch?v=Soa3gO7tL-c', 'https://www.youtube.com/watch?v=SBjQ9tuuTJQ', 'https://www.youtube.com/watch?v=HyHNuVaZJ-k', 'https://www.youtube.com/watch?v=iAP9AF6DCu4', 'https://www.youtube.com/watch?v=k4V3Mo61fJM', 'https://www.youtube.com/watch?v=gGdGFtwCNBE', 'https://www.youtube.com/watch?v=98Akpf1ph2o', 'https://www.youtube.com/watch?v=RF0HhrwIwp0', 'https://www.youtube.com/watch?v=RvnkAtWcKYg', 'https://www.youtube.com/watch?v=vc6vs-l5dkc', 'https://www.youtube.com/watch?v=0J2QdDbelmY', 'https://www.youtube.com/watch?v=xPU8OAjjS4k', 'https://www.youtube.com/watch?v=r00ikilDxW4', 'https://www.youtube.com/watch?v=d8ekz_CSBVg', 'https://www.youtube.com/watch?v=Oextk-If8HQ', 'https://www.youtube.com/watch?v=s1tAYmMjLdY', 'https://www.youtube.com/watch?v=9Ht5RZpzPqw', 'https://www.youtube.com/watch?v=Sb5aq5HcS1A', 'https://www.youtube.com/watch?v=hPC2Fp7IT7o', 'https://www.youtube.com/watch?v=GemKqzILV4w', 'https://www.youtube.com/watch?v=v2H4l9RpkwM', 'https://www.youtube.com/watch?v=8DyziWtkfBw', 'https://www.youtube.com/watch?v=8mGBaXPlri8', 'https://www.youtube.com/watch?v=RiSfTyrvJlg', 'https://www.youtube.com/watch?v=gnIZ7RMuLpU', 'https://www.youtube.com/watch?v=cjVQ36NhbMk', 'https://www.youtube.com/watch?v=lL2ZwXj1tXM', 'https://www.youtube.com/watch?v=CDl9ZMfj6aE', 'https://www.youtube.com/watch?v=BB0DU4DoPP4', 'https://www.youtube.com/watch?v=s8QYxmpuyxg', 'https://www.youtube.com/watch?v=h_L4Rixya64', 'https://www.youtube.com/watch?v=0k_1kvDh2UA', 'https://www.youtube.com/watch?v=Zx4Hjq6KwO0', 'https://www.youtube.com/watch?v=TIy3n2b7V9k', 'https://www.youtube.com/watch?v=FC3y9llDXuM', 'https://www.youtube.com/watch?v=WC5FdFlUcl0', 'https://www.youtube.com/watch?v=Y5fBdpreJiU', 'https://www.youtube.com/watch?v=RRKJiM9Njr8', 'https://www.youtube.com/watch?v=emGri7i8Y2Y', 'https://www.youtube.com/watch?v=NU9JoFKlaZ0', 'https://www.youtube.com/watch?v=O-fyNgHdmLI', 'https://www.youtube.com/watch?v=8yvGCAvOAfM', 'https://www.youtube.com/watch?v=b8-tXG8KrWs', 'https://www.youtube.com/watch?v=Ud4HuAzHEUc', 'https://www.youtube.com/watch?v=vVy9Lgpg1m8', 'https://www.youtube.com/watch?v=xqds0B_meys', 'https://www.youtube.com/watch?v=ac3HkriqdGQ', 'https://www.youtube.com/watch?v=JnfyjwChuNU', 'https://www.youtube.com/watch?v=onzL0EM1pKY', 'https://www.youtube.com/watch?v=Dn8vzTsnPps', 'https://www.youtube.com/watch?v=co6WMzDOh1o', 'https://www.youtube.com/watch?v=pT68FS3YbQ4', 'https://www.youtube.com/watch?v=MmZexg8sxyk', 'https://www.youtube.com/watch?v=RUi54JTgL5s', 'https://www.youtube.com/watch?v=Pgum6OT_VH8', 'https://www.youtube.com/watch?v=araU0fZj6oQ', 'https://www.youtube.com/watch?v=fgT9zGkiLig', 'https://www.youtube.com/watch?v=ff0oWESdmH0', 'https://www.youtube.com/watch?v=ma9I9VBKPiw', 'https://www.youtube.com/watch?v=8IEQpfA528M', 'https://www.youtube.com/watch?v=kcASPx3-HuI', 'https://www.youtube.com/watch?v=s88r_q7oufE', 'https://www.youtube.com/watch?v=vVXIK1xCRpY', 'https://www.youtube.com/watch?v=tuK6n2Lkza0', 'https://www.youtube.com/watch?v=CMX2lPum_pg', 'https://www.youtube.com/watch?v=eHbNU9WuVgw', 'https://www.youtube.com/watch?v=j7CDb610Bg0', 'https://www.youtube.com/watch?v=TOypSnKFHrE', 'https://www.youtube.com/watch?v=CTAud5O7Qqk', 'https://www.youtube.com/watch?v=0fcRa5Z6LmU', 'https://www.youtube.com/watch?v=6Ux6SlOE9Qk', 'https://www.youtube.com/watch?v=luM6oeCM7Yw', 'https://www.youtube.com/watch?v=hN5X4kGhAtU', 'https://www.youtube.com/watch?v=UQ92eyxnxmQ', 'https://www.youtube.com/watch?v=3dm_5qWWDV8', 'https://www.youtube.com/watch?v=qv96yJYhk3M', 'https://www.youtube.com/watch?v=xJJsoquu70o', 'https://www.youtube.com/watch?v=7gwO8-oqwFw', 'https://www.youtube.com/watch?v=qO-mSLxih-c', 'https://www.youtube.com/watch?v=5YXVMCHG-Nk', 'https://www.youtube.com/watch?v=oKsxPW6i3pM', 'https://www.youtube.com/watch?v=jkaMiaRLgvY', 'https://www.youtube.com/watch?v=Ijk4j-r7qPA', 'https://www.youtube.com/watch?v=Pib8eYDSFEI', 'https://www.youtube.com/watch?v=oIIxlgcuQRU', 'https://www.youtube.com/watch?v=desJKYvdq9A']\n",
            "sample links from 143 hip-hop/rap songs from the playlist: ['https://www.youtube.com/watch?v=JFm7YDVlqnI', 'https://www.youtube.com/watch?v=-V2PxXsctV0', 'https://www.youtube.com/watch?v=meFxq3-mNEc', 'https://www.youtube.com/watch?v=x8mAyKX9muE', 'https://www.youtube.com/watch?v=meFxq3-mNEc', 'https://www.youtube.com/watch?v=ohD6cyB8RI4', 'https://www.youtube.com/watch?v=YsOweFtVlvU', 'https://www.youtube.com/watch?v=Zx_DBvChpvM', 'https://www.youtube.com/watch?v=l0U7SxXHkPY', 'https://www.youtube.com/watch?v=GErG9femMQk', 'https://www.youtube.com/watch?v=pwBFOuCrdr4', 'https://www.youtube.com/watch?v=qJlMkMtK7-8', 'https://www.youtube.com/watch?v=n5LWsc-qCdA', 'https://www.youtube.com/watch?v=iXUPeEuM1CM', 'https://www.youtube.com/watch?v=HIwAI05Y1fU', 'https://www.youtube.com/watch?v=HVbOKVnXooI', 'https://www.youtube.com/watch?v=78yLkf2J6JI', 'https://www.youtube.com/watch?v=T8pi91qWnRw', 'https://www.youtube.com/watch?v=oBYf6gpVvRA', 'https://www.youtube.com/watch?v=QryoOF5jEbc', 'https://www.youtube.com/watch?v=GA370tAjzv8', 'https://www.youtube.com/watch?v=-tmSSWl-ZoA', 'https://www.youtube.com/watch?v=3CxtK7-XtE0', 'https://www.youtube.com/watch?v=X9x7JKGa27I', 'https://www.youtube.com/watch?v=meFxq3-mNEc', 'https://www.youtube.com/watch?v=JFm7YDVlqnI', 'https://www.youtube.com/watch?v=GErG9femMQk', 'https://www.youtube.com/watch?v=HnUYD1U1qTw', 'https://www.youtube.com/watch?v=0C80BSgjb8M', 'https://www.youtube.com/watch?v=83xBPCw5hh4', 'https://www.youtube.com/watch?v=IdT-hcjdVbg', 'https://www.youtube.com/watch?v=JStxkxgSlx8', 'https://www.youtube.com/watch?v=DmInwHOt8cY', 'https://www.youtube.com/watch?v=0opZqh_TprM', 'https://www.youtube.com/watch?v=oXxvjwynJvs', 'https://www.youtube.com/watch?v=HIwAI05Y1fU', 'https://www.youtube.com/watch?v=BsytXAJ6Wr8', 'https://www.youtube.com/watch?v=s4Mn4rc0YPg', 'https://www.youtube.com/watch?v=jV1v2Cy1w30', 'https://www.youtube.com/watch?v=H2Po5uiZMco', 'https://www.youtube.com/watch?v=JxAlZOn4QhM', 'https://www.youtube.com/watch?v=dYk-yCsuTUo', 'https://www.youtube.com/watch?v=wdrmK0DtztU', 'https://www.youtube.com/watch?v=GrAchTdepsU', 'https://www.youtube.com/watch?v=fyIcQ1Xl-rs', 'https://www.youtube.com/watch?v=G6XthQpk8uk', 'https://www.youtube.com/watch?v=u0LaoQks5mY', 'https://www.youtube.com/watch?v=YNyFAro1E5M', 'https://www.youtube.com/watch?v=CiCT7NCP6BY', 'https://www.youtube.com/watch?v=DnMg6HykXzg', 'https://www.youtube.com/watch?v=jUIrolORx6M', 'https://www.youtube.com/watch?v=eTaC_pPpGL8', 'https://www.youtube.com/watch?v=3jI_-8UQmN0', 'https://www.youtube.com/watch?v=pPw_izFr5PA', 'https://www.youtube.com/watch?v=gZIsMh3IS7E', 'https://www.youtube.com/watch?v=tIYdsBjN9-k', 'https://www.youtube.com/watch?v=7KTt4_M09Rw', 'https://www.youtube.com/watch?v=BUJ_hyOMIq8', 'https://www.youtube.com/watch?v=rJZynxvJnlI', 'https://www.youtube.com/watch?v=I6FmwBPDT-w', 'https://www.youtube.com/watch?v=C5i-UnuUKUI', 'https://www.youtube.com/watch?v=VjMKmJDT_qU', 'https://www.youtube.com/watch?v=Qgduhk26sIw', 'https://www.youtube.com/watch?v=6MCSr65d9Xc', 'https://www.youtube.com/watch?v=Q9pjm4cNsfc', 'https://www.youtube.com/watch?v=jWQNqlZ47Ec', 'https://www.youtube.com/watch?v=_VDGysJGNoI', 'https://www.youtube.com/watch?v=deMLg4FPFhQ', 'https://www.youtube.com/watch?v=-iNWEwLfkv8', 'https://www.youtube.com/watch?v=1KlNDZpCkHc', 'https://www.youtube.com/watch?v=AY1bA23hGMU', 'https://www.youtube.com/watch?v=knjPA5BtEII', 'https://www.youtube.com/watch?v=Cel1TAel-eY', 'https://www.youtube.com/watch?v=OQ6R4TU5Vwo', 'https://www.youtube.com/watch?v=LPnnX7hOcQM', 'https://www.youtube.com/watch?v=0Bl_IYEHWaU', 'https://www.youtube.com/watch?v=VxLHOwp2XSo', 'https://www.youtube.com/watch?v=ted2pAnAnQc', 'https://www.youtube.com/watch?v=m8jZunevga8', 'https://www.youtube.com/watch?v=T8pi91qWnRw', 'https://www.youtube.com/watch?v=OZa3HyVLimQ', 'https://www.youtube.com/watch?v=Tk9l62Cl5EU', 'https://www.youtube.com/watch?v=l3Cj7Esqr0c', 'https://www.youtube.com/watch?v=MEUTlymw1eU', 'https://www.youtube.com/watch?v=aITIKxjFaL0', 'https://www.youtube.com/watch?v=n79N2Vk2Y48', 'https://www.youtube.com/watch?v=bE7AmqT0E80', 'https://www.youtube.com/watch?v=ddoFu4sDXpU', 'https://www.youtube.com/watch?v=V_jHc_n0p9c', 'https://www.youtube.com/watch?v=if1BAn17y3k', 'https://www.youtube.com/watch?v=iXUPeEuM1CM', 'https://www.youtube.com/watch?v=TjuWsp0Nnk0', 'https://www.youtube.com/watch?v=ZdhVDWcrh6c', 'https://www.youtube.com/watch?v=K5pJe2gse6I', 'https://www.youtube.com/watch?v=Qt6UcHJAeFo', 'https://www.youtube.com/watch?v=tN2j075NLQc', 'https://www.youtube.com/watch?v=Q5jnuOCJvK0', 'https://www.youtube.com/watch?v=oVEVrYq9v7M', 'https://www.youtube.com/watch?v=86p9_ycUyq8', 'https://www.youtube.com/watch?v=qBn_aZPcqJk', 'https://www.youtube.com/watch?v=eUe2cdhsL68', 'https://www.youtube.com/watch?v=o_smxk-P5p4', 'https://www.youtube.com/watch?v=5tOytaaALGQ', 'https://www.youtube.com/watch?v=rpubTIE3mdY', 'https://www.youtube.com/watch?v=xWggTb45brM', 'https://www.youtube.com/watch?v=Uz3zBZQzO5Q', 'https://www.youtube.com/watch?v=_3LuZx06QhQ', 'https://www.youtube.com/watch?v=ZD6C498MB4U', 'https://www.youtube.com/watch?v=R16itGXKp9k', 'https://www.youtube.com/watch?v=c2lUhNmdXkE', 'https://www.youtube.com/watch?v=8oaW16lGNxE', 'https://www.youtube.com/watch?v=aFkxqGZPlSA', 'https://www.youtube.com/watch?v=-uOdzsteXvk', 'https://www.youtube.com/watch?v=XRNjRcKZc1A', 'https://www.youtube.com/watch?v=hJPS6JTXAFM', 'https://www.youtube.com/watch?v=l2eGsg-Ab_8', 'https://www.youtube.com/watch?v=XnSD4J6XKLA', 'https://www.youtube.com/watch?v=nMDOSLEVdBw', 'https://www.youtube.com/watch?v=UNZqm3dxd2w', 'https://www.youtube.com/watch?v=r_0JjYUe5jo']\n",
            "sample links from 115 electronic songs from the playlist: ['https://www.youtube.com/watch?v=60ItHLz5WEA', 'https://www.youtube.com/watch?v=PT2_F-1esPk', 'https://www.youtube.com/watch?v=foE1mO2yM04', 'https://www.youtube.com/watch?v=IvPT2QuCIOA', 'https://www.youtube.com/watch?v=foE1mO2yM04', 'https://www.youtube.com/watch?v=1y6smkh6c-0', 'https://www.youtube.com/watch?v=53kFlHkcyG0', 'https://www.youtube.com/watch?v=CTFtOOh47oo', 'https://www.youtube.com/watch?v=41GZVVcxQps', 'https://www.youtube.com/watch?v=weeI1G46q0o', 'https://www.youtube.com/watch?v=cHHLHGNpCSA', 'https://www.youtube.com/watch?v=SYM-RJwSGQ8', 'https://www.youtube.com/watch?v=9Sc-ir2UwGU', 'https://www.youtube.com/watch?v=qFLhGq0060w', 'https://www.youtube.com/watch?v=4NRXx6U8ABQ', 'https://www.youtube.com/watch?v=pUjE9H8QlA4', 'https://www.youtube.com/watch?v=IcrbM1l_BoI', 'https://www.youtube.com/watch?v=BgfcToAjfdc', 'https://www.youtube.com/watch?v=pXRviuL6vMY', 'https://www.youtube.com/watch?v=Vnoz5uBEWOA', 'https://www.youtube.com/watch?v=kOkQ4T5WO9E', 'https://www.youtube.com/watch?v=w2Ov5jzm3j8', 'https://www.youtube.com/watch?v=PT2_F-1esPk', 'https://www.youtube.com/watch?v=foE1mO2yM04', 'https://www.youtube.com/watch?v=60ItHLz5WEA', 'https://www.youtube.com/watch?v=P6apvGUIdU4', 'https://www.youtube.com/watch?v=5dWeeUIZFgA', 'https://www.youtube.com/watch?v=9I9Ar6upx34', 'https://www.youtube.com/watch?v=YqeW9_5kURI', 'https://www.youtube.com/watch?v=kOkQ4T5WO9E', 'https://www.youtube.com/watch?v=qj5zT4t7S6c', 'https://www.youtube.com/watch?v=5jlI4uzZGjU', 'https://www.youtube.com/watch?v=GTyN-DB_v5M', 'https://www.youtube.com/watch?v=PVzljDmoPVs', 'https://www.youtube.com/watch?v=bvC_0foemLY', 'https://www.youtube.com/watch?v=mOKqNxN4jWM', 'https://www.youtube.com/watch?v=5dbEhBKGOtY', 'https://www.youtube.com/watch?v=EgqUJOudrcM', 'https://www.youtube.com/watch?v=gCYcHz2k5x0', 'https://www.youtube.com/watch?v=SmM0653YvXU', 'https://www.youtube.com/watch?v=qqjVwAg5fK4', 'https://www.youtube.com/watch?v=KDxJlW6cxRk', 'https://www.youtube.com/watch?v=xUVz4nRmxn4', 'https://www.youtube.com/watch?v=9Sc-ir2UwGU', 'https://www.youtube.com/watch?v=uo35R9zQsAI', 'https://www.youtube.com/watch?v=8sPj0Ic8KQ8', 'https://www.youtube.com/watch?v=2i2khp_npdE', 'https://www.youtube.com/watch?v=1y6smkh6c-0', 'https://www.youtube.com/watch?v=WUG2guLUtuo', 'https://www.youtube.com/watch?v=JRfuAukYTKg', 'https://www.youtube.com/watch?v=ilw-qmqZ5zY', 'https://www.youtube.com/watch?v=VjHMDlAPMUw', 'https://www.youtube.com/watch?v=cHHLHGNpCSA', 'https://www.youtube.com/watch?v=Bznxx12Ptl0', 'https://www.youtube.com/watch?v=BgfcToAjfdc', 'https://www.youtube.com/watch?v=FGBhQbmPwH8', 'https://www.youtube.com/watch?v=GjnadPBMJGs', 'https://www.youtube.com/watch?v=KRAMNWzfjcg', 'https://www.youtube.com/watch?v=5j1RCys4R0g', 'https://www.youtube.com/watch?v=dGghkjpNCQ8', 'https://www.youtube.com/watch?v=g_uoH6hJilc', 'https://www.youtube.com/watch?v=6Cp6mKbRTQY', 'https://www.youtube.com/watch?v=p4kVWCSzfK4', 'https://www.youtube.com/watch?v=o0citpYDaVg', 'https://www.youtube.com/watch?v=aUWYDaVp92I', 'https://www.youtube.com/watch?v=ZlARJAmytnk', 'https://www.youtube.com/watch?v=2_wpOmM1d8w', 'https://www.youtube.com/watch?v=CFF0mV24WCY', 'https://www.youtube.com/watch?v=Zi9To04PO78', 'https://www.youtube.com/watch?v=jWl6-EohX5E', 'https://www.youtube.com/watch?v=DK_0jXPuIr0', 'https://www.youtube.com/watch?v=6fBZBntjEOA', 'https://www.youtube.com/watch?v=J91uMhwU7jM', 'https://www.youtube.com/watch?v=GKSRyLdjsPA', 'https://www.youtube.com/watch?v=i7wveOu5hkQ', 'https://www.youtube.com/watch?v=dLtAAcOZtSw', 'https://www.youtube.com/watch?v=1-xGerv5FOk', 'https://www.youtube.com/watch?v=6Mgqbai3fKo', 'https://www.youtube.com/watch?v=Gvchbkh4jQY', 'https://www.youtube.com/watch?v=papuvlVeZg8', 'https://www.youtube.com/watch?v=D0_GWTy9FEM', 'https://www.youtube.com/watch?v=JGwWNGJdvx8', 'https://www.youtube.com/watch?v=PT2_F-1esPk', 'https://www.youtube.com/watch?v=8j9zMok6two', 'https://www.youtube.com/watch?v=RhU9MZ98jxo', 'https://www.youtube.com/watch?v=YykjpeuMNEk', 'https://www.youtube.com/watch?v=BcJfmazwGhg', 'https://www.youtube.com/watch?v=b8I-7Wk_Vbc', 'https://www.youtube.com/watch?v=VjEvnuvkrAI', 'https://www.youtube.com/watch?v=OZLUa8JUR18', 'https://www.youtube.com/watch?v=aJOTlE1K90k', 'https://www.youtube.com/watch?v=Y1UiD2sxoWo', 'https://www.youtube.com/watch?v=EaJV2irv7MU', 'https://www.youtube.com/watch?v=-4QOrM8L4wU', 'https://www.youtube.com/watch?v=foE1mO2yM04', 'https://www.youtube.com/watch?v=60ItHLz5WEA', 'https://www.youtube.com/watch?v=-4QOrM8L4wU', 'https://www.youtube.com/watch?v=PT2_F-1esPk', 'https://www.youtube.com/watch?v=qqjVwAg5fK4', 'https://www.youtube.com/watch?v=foE1mO2yM04', 'https://www.youtube.com/watch?v=IvPT2QuCIOA', 'https://www.youtube.com/watch?v=1y6smkh6c-0', 'https://www.youtube.com/watch?v=53kFlHkcyG0', 'https://www.youtube.com/watch?v=CTFtOOh47oo', 'https://www.youtube.com/watch?v=41GZVVcxQps', 'https://www.youtube.com/watch?v=weeI1G46q0o', 'https://www.youtube.com/watch?v=cHHLHGNpCSA', 'https://www.youtube.com/watch?v=SYM-RJwSGQ8', 'https://www.youtube.com/watch?v=9Sc-ir2UwGU', 'https://www.youtube.com/watch?v=qFLhGq0060w', 'https://www.youtube.com/watch?v=4NRXx6U8ABQ', 'https://www.youtube.com/watch?v=foE1mO2yM04', 'https://www.youtube.com/watch?v=X2BRVdbtNLc', 'https://www.youtube.com/watch?v=XejVB_fba04', 'https://www.youtube.com/watch?v=_YrQmH3ONO8']\n",
            "sample links from 75 techno songs from the playlist: ['https://www.youtube.com/watch?v=IRvGZffXhfk', 'https://www.youtube.com/watch?v=PSYxT9GM0fQ', 'https://www.youtube.com/watch?v=Lgs9QUtWc3M', 'https://www.youtube.com/watch?v=lHjNmyzrVvM', 'https://www.youtube.com/watch?v=Lgs9QUtWc3M', 'https://www.youtube.com/watch?v=BF5bV6oWXJg', 'https://www.youtube.com/watch?v=Lgs9QUtWc3M', 'https://www.youtube.com/watch?v=CC5ca6Hsb2Q', 'https://www.youtube.com/watch?v=JbwpU2TywB8', 'https://www.youtube.com/watch?v=WpQrAbkM3dI', 'https://www.youtube.com/watch?v=ZyhrYis509A', 'https://www.youtube.com/watch?v=1y6smkh6c-0', 'https://www.youtube.com/watch?v=4N1iwQxiHrs', 'https://www.youtube.com/watch?v=xat1GVnl8-k', 'https://www.youtube.com/watch?v=KkhGkRahU6g', 'https://www.youtube.com/watch?v=Vnoz5uBEWOA', 'https://www.youtube.com/watch?v=gLCduDJVksc', 'https://www.youtube.com/watch?v=Vx6SJ2WWVZs', 'https://www.youtube.com/watch?v=w15oWDh02K4', 'https://www.youtube.com/watch?v=jzy2dgEUOhY', 'https://www.youtube.com/watch?v=djV11Xbc914', 'https://www.youtube.com/watch?v=reok5PGJmiI', 'https://www.youtube.com/watch?v=6Zbi0XmGtMw', 'https://www.youtube.com/watch?v=NrVqLGQlieA', 'https://www.youtube.com/watch?v=YPwtJ89jes4', 'https://www.youtube.com/watch?v=ldgwAAwj9zs', 'https://www.youtube.com/watch?v=Lgs9QUtWc3M', 'https://www.youtube.com/watch?v=IRvGZffXhfk', 'https://www.youtube.com/watch?v=XhMYrlH8OZE', 'https://www.youtube.com/watch?v=LogL2pUiQmg', 'https://www.youtube.com/watch?v=Pav2f4b-1ZE', 'https://www.youtube.com/watch?v=RkEXGgdqMz8', 'https://www.youtube.com/watch?v=kz99xXhbpXQ', 'https://www.youtube.com/watch?v=9EcjWd-O4jI', 'https://www.youtube.com/watch?v=WMPM1q_Uyxc', 'https://www.youtube.com/watch?v=u3ltZmI5LQw', 'https://www.youtube.com/watch?v=8nK1YQiaNEk', 'https://www.youtube.com/watch?v=z33tH-JdPDg', 'https://www.youtube.com/watch?v=LXEOESuiYcA', 'https://www.youtube.com/watch?v=xk8mm1Qmt-Y', 'https://www.youtube.com/watch?v=zQX2q6WCrbE', 'https://www.youtube.com/watch?v=vGZdqgmM2FQ', 'https://www.youtube.com/watch?v=PSYxT9GM0fQ', 'https://www.youtube.com/watch?v=wmin5WkOuPw', 'https://www.youtube.com/watch?v=2VuyQuRAsHI', 'https://www.youtube.com/watch?v=RCvQaJB0XUU', 'https://www.youtube.com/watch?v=w15oWDh02K4', 'https://www.youtube.com/watch?v=4XJxFAoiWSY', 'https://www.youtube.com/watch?v=Th_3f6MTHsY', 'https://www.youtube.com/watch?v=99E9fDgZZuE', 'https://www.youtube.com/watch?v=DBzMAzPZTwQ', 'https://www.youtube.com/watch?v=Zh8rmhjPWSE', 'https://www.youtube.com/watch?v=J6tueuGlo1Q', 'https://www.youtube.com/watch?v=Lgs9QUtWc3M', 'https://www.youtube.com/watch?v=IRvGZffXhfk', 'https://www.youtube.com/watch?v=J6tueuGlo1Q', 'https://www.youtube.com/watch?v=PSYxT9GM0fQ', 'https://www.youtube.com/watch?v=xk8mm1Qmt-Y', 'https://www.youtube.com/watch?v=Lgs9QUtWc3M', 'https://www.youtube.com/watch?v=BF5bV6oWXJg', 'https://www.youtube.com/watch?v=CC5ca6Hsb2Q', 'https://www.youtube.com/watch?v=JbwpU2TywB8', 'https://www.youtube.com/watch?v=WpQrAbkM3dI', 'https://www.youtube.com/watch?v=ZyhrYis509A', 'https://www.youtube.com/watch?v=1y6smkh6c-0', 'https://www.youtube.com/watch?v=4N1iwQxiHrs', 'https://www.youtube.com/watch?v=xat1GVnl8-k', 'https://www.youtube.com/watch?v=KkhGkRahU6g', 'https://www.youtube.com/watch?v=Vnoz5uBEWOA', 'https://www.youtube.com/watch?v=gLCduDJVksc', 'https://www.youtube.com/watch?v=Vx6SJ2WWVZs', 'https://www.youtube.com/watch?v=Lgs9QUtWc3M', 'https://www.youtube.com/watch?v=lHjNmyzrVvM', 'https://www.youtube.com/watch?v=-_5XoTP6nZU', 'https://www.youtube.com/watch?v=29kxfByuQn4']\n",
            "sample links from 84 makedonski narodni pesni songs from the playlist: ['https://www.youtube.com/watch?v=Eoc28fdIDUc', 'https://www.youtube.com/watch?v=jAHKy_rExWM', 'https://www.youtube.com/watch?v=Eoc28fdIDUc', 'https://www.youtube.com/watch?v=jAHKy_rExWM', 'https://www.youtube.com/watch?v=E81QE4YKkbI', 'https://www.youtube.com/watch?v=3LBWGjH6DoA', 'https://www.youtube.com/watch?v=BiPImCSa-b4', 'https://www.youtube.com/watch?v=ULUtzFe2wac', 'https://www.youtube.com/watch?v=UIgOUSyXMxs', 'https://www.youtube.com/watch?v=lUwRxN59djU', 'https://www.youtube.com/watch?v=jCQksO68C0I', 'https://www.youtube.com/watch?v=2YqW5i5KhqU', 'https://www.youtube.com/watch?v=uWyiXYeQMnY', 'https://www.youtube.com/watch?v=bHc2Nc72Mk0', 'https://www.youtube.com/watch?v=_JdL07p6TO0', 'https://www.youtube.com/watch?v=T6xQrD8-CeI', 'https://www.youtube.com/watch?v=Ubs4E_9gzTA', 'https://www.youtube.com/watch?v=15s-0zoUkvw', 'https://www.youtube.com/watch?v=Z3z5S4ndpk4', 'https://www.youtube.com/watch?v=73PCUU2UZQ0', 'https://www.youtube.com/watch?v=A923enCmm2U', 'https://www.youtube.com/watch?v=Y9xCuSkT8zE', 'https://www.youtube.com/watch?v=fSkza4WYPjk', 'https://www.youtube.com/watch?v=jAHKy_rExWM', 'https://www.youtube.com/watch?v=Eoc28fdIDUc', 'https://www.youtube.com/watch?v=vLwWMddrl4Q', 'https://www.youtube.com/watch?v=fSkza4WYPjk', 'https://www.youtube.com/watch?v=jCQksO68C0I', 'https://www.youtube.com/watch?v=Gpslq0tuoNQ', 'https://www.youtube.com/watch?v=yKRd7VNwwJQ', 'https://www.youtube.com/watch?v=fVzoXXm3FNQ', 'https://www.youtube.com/watch?v=yA5qcn26gRU', 'https://www.youtube.com/watch?v=UnTt-A7OY9g', 'https://www.youtube.com/watch?v=mkDYTIyES00', 'https://www.youtube.com/watch?v=A923enCmm2U', 'https://www.youtube.com/watch?v=ilJlBtVSnZM', 'https://www.youtube.com/watch?v=fMMoM3zagBY', 'https://www.youtube.com/watch?v=oxP8GOn5wdc', 'https://www.youtube.com/watch?v=MdNs_LUKFBg', 'https://www.youtube.com/watch?v=N_bXsIqXkoQ', 'https://www.youtube.com/watch?v=FLPXHfZY9Ws', 'https://www.youtube.com/watch?v=wEugrifPjSI', 'https://www.youtube.com/watch?v=73PCUU2UZQ0', 'https://www.youtube.com/watch?v=F_xS7QRmzlc', 'https://www.youtube.com/watch?v=okAn6n1QRCI', 'https://www.youtube.com/watch?v=Jiz0zpL2ed8', 'https://www.youtube.com/watch?v=Thfym1XecHo', 'https://www.youtube.com/watch?v=A8ea8L8L6CM', 'https://www.youtube.com/watch?v=fY1gDjVETIc', 'https://www.youtube.com/watch?v=bHc2Nc72Mk0', 'https://www.youtube.com/watch?v=Pg2mhunskgI', 'https://www.youtube.com/watch?v=T6xQrD8-CeI', 'https://www.youtube.com/watch?v=lUwRxN59djU', 'https://www.youtube.com/watch?v=cpOsm2GwXMo', 'https://www.youtube.com/watch?v=gWC14eXoNHA', 'https://www.youtube.com/watch?v=Iz9Ax7C45aI', 'https://www.youtube.com/watch?v=3ljmk3MqaNA', 'https://www.youtube.com/watch?v=EbveB0-l0DE', 'https://www.youtube.com/watch?v=SlZoJlNABF8', 'https://www.youtube.com/watch?v=tdeUKcDYVhU', 'https://www.youtube.com/watch?v=xkBWm25s8FU', 'https://www.youtube.com/watch?v=-X0JmORka3M', 'https://www.youtube.com/watch?v=ci_oFkL-KhA', 'https://www.youtube.com/watch?v=AYKilAodOPg', 'https://www.youtube.com/watch?v=2YqW5i5KhqU', 'https://www.youtube.com/watch?v=jAHKy_rExWM', 'https://www.youtube.com/watch?v=Eoc28fdIDUc', 'https://www.youtube.com/watch?v=2YqW5i5KhqU', 'https://www.youtube.com/watch?v=Eoc28fdIDUc', 'https://www.youtube.com/watch?v=oxP8GOn5wdc', 'https://www.youtube.com/watch?v=jAHKy_rExWM', 'https://www.youtube.com/watch?v=Eoc28fdIDUc', 'https://www.youtube.com/watch?v=E81QE4YKkbI', 'https://www.youtube.com/watch?v=3LBWGjH6DoA', 'https://www.youtube.com/watch?v=BiPImCSa-b4', 'https://www.youtube.com/watch?v=ULUtzFe2wac', 'https://www.youtube.com/watch?v=UIgOUSyXMxs', 'https://www.youtube.com/watch?v=lUwRxN59djU', 'https://www.youtube.com/watch?v=jCQksO68C0I', 'https://www.youtube.com/watch?v=2YqW5i5KhqU', 'https://www.youtube.com/watch?v=uWyiXYeQMnY', 'https://www.youtube.com/watch?v=bHc2Nc72Mk0', 'https://www.youtube.com/watch?v=_JdL07p6TO0', 'https://www.youtube.com/watch?v=jAHKy_rExWM']\n",
            "sample links from 67 turbo folk songs from the playlist: ['https://www.youtube.com/watch?v=esMtF333cgQ', 'https://www.youtube.com/watch?v=PCrNORbMuR0', 'https://www.youtube.com/watch?v=qeAEdU4p5Cg', 'https://www.youtube.com/watch?v=sIIMKcioSLs', 'https://www.youtube.com/watch?v=QCqYV-t3s04', 'https://www.youtube.com/watch?v=qeAEdU4p5Cg', 'https://www.youtube.com/watch?v=4tS6-MT3WqI', 'https://www.youtube.com/watch?v=K2YCU-FecBk', 'https://www.youtube.com/watch?v=jV1v2Cy1w30', 'https://www.youtube.com/watch?v=esMtF333cgQ', 'https://www.youtube.com/watch?v=nUjsydvnTc8', 'https://www.youtube.com/watch?v=Bu0rT_Vb_Jc', 'https://www.youtube.com/watch?v=u56OusNnEFU', 'https://www.youtube.com/watch?v=pn2G0HBVEbc', 'https://www.youtube.com/watch?v=SmRtxAJCUNM', 'https://www.youtube.com/watch?v=wxF45JKTRWs', 'https://www.youtube.com/watch?v=uuL9F4etSDM', 'https://www.youtube.com/watch?v=50t-8B0v9CI', 'https://www.youtube.com/watch?v=dqygfoTl2j0', 'https://www.youtube.com/watch?v=aBPs-wqzAsY', 'https://www.youtube.com/watch?v=4tS6-MT3WqI', 'https://www.youtube.com/watch?v=hkSzmPnzF-o', 'https://www.youtube.com/watch?v=cAEFu7qGYKM', 'https://www.youtube.com/watch?v=UQfR2xMX3to', 'https://www.youtube.com/watch?v=0tUUe7Y29To', 'https://www.youtube.com/watch?v=r_7Z2KnbAIE', 'https://www.youtube.com/watch?v=qeAEdU4p5Cg', 'https://www.youtube.com/watch?v=esMtF333cgQ', 'https://www.youtube.com/watch?v=DEcdx4ZPv5U', 'https://www.youtube.com/watch?v=4tS6-MT3WqI', 'https://www.youtube.com/watch?v=j8R-Fp0GGDI', 'https://www.youtube.com/watch?v=tFDpo62eqwU', 'https://www.youtube.com/watch?v=Vmqs_wuvV-0', 'https://www.youtube.com/watch?v=H16l-lJG-sY', 'https://www.youtube.com/watch?v=MgNkJfTfHa4', 'https://www.youtube.com/watch?v=U2dS3XKJOqU', 'https://www.youtube.com/watch?v=oR3UNHL3lEY', 'https://www.youtube.com/watch?v=h-1DaI2nOfU', 'https://www.youtube.com/watch?v=rRf5Z3e23n4', 'https://www.youtube.com/watch?v=PCrNORbMuR0', 'https://www.youtube.com/watch?v=XebkM6QVwyk', 'https://www.youtube.com/watch?v=Aaj876MfFuE', 'https://www.youtube.com/watch?v=kFzWRbn9JSQ', 'https://www.youtube.com/watch?v=Zk-xMOTJ3aU', 'https://www.youtube.com/watch?v=NjGuz_6KlsI', 'https://www.youtube.com/watch?v=06mH1kUvyO0', 'https://www.youtube.com/watch?v=kYt6szSCBUc', 'https://www.youtube.com/watch?v=WNoy6FHHAU0', 'https://www.youtube.com/watch?v=qeAEdU4p5Cg', 'https://www.youtube.com/watch?v=esMtF333cgQ', 'https://www.youtube.com/watch?v=WNoy6FHHAU0', 'https://www.youtube.com/watch?v=PCrNORbMuR0', 'https://www.youtube.com/watch?v=DEcdx4ZPv5U', 'https://www.youtube.com/watch?v=qeAEdU4p5Cg', 'https://www.youtube.com/watch?v=QCqYV-t3s04', 'https://www.youtube.com/watch?v=4tS6-MT3WqI', 'https://www.youtube.com/watch?v=K2YCU-FecBk', 'https://www.youtube.com/watch?v=jV1v2Cy1w30', 'https://www.youtube.com/watch?v=esMtF333cgQ', 'https://www.youtube.com/watch?v=nUjsydvnTc8', 'https://www.youtube.com/watch?v=Bu0rT_Vb_Jc', 'https://www.youtube.com/watch?v=u56OusNnEFU', 'https://www.youtube.com/watch?v=pn2G0HBVEbc', 'https://www.youtube.com/watch?v=SmRtxAJCUNM', 'https://www.youtube.com/watch?v=wxF45JKTRWs', 'https://www.youtube.com/watch?v=uuL9F4etSDM', 'https://www.youtube.com/watch?v=qeAEdU4p5Cg']\n",
            "sample links from 184 metal songs from the playlist: ['https://www.youtube.com/watch?v=J51LPlP-s9o', 'https://www.youtube.com/watch?v=QUvVdTlA23w', 'https://www.youtube.com/watch?v=xnKhsTXoKCI', 'https://www.youtube.com/watch?v=S7blkui3nQc', 'https://www.youtube.com/watch?v=eeqGuaAl6Ic', 'https://www.youtube.com/watch?v=xnKhsTXoKCI', 'https://www.youtube.com/watch?v=CD-E-LDc384', 'https://www.youtube.com/watch?v=_fKAsvJrFes', 'https://www.youtube.com/watch?v=DU_ggFovJNo', 'https://www.youtube.com/watch?v=0J2QdDbelmY', 'https://www.youtube.com/watch?v=Wm58sGEdgAw', 'https://www.youtube.com/watch?v=Zpan-OeaTr4', 'https://www.youtube.com/watch?v=tAGnKpE4NCI', 'https://www.youtube.com/watch?v=aoO5LYx1Kxc', 'https://www.youtube.com/watch?v=md3B3I7Nmvw', 'https://www.youtube.com/watch?v=dHUHxTiPFUU', 'https://www.youtube.com/watch?v=aSNJ00iAZ7I', 'https://www.youtube.com/watch?v=HdWw9SksiwQ', 'https://www.youtube.com/watch?v=peENJe_ORdI', 'https://www.youtube.com/watch?v=Ckom3gf57Yw', 'https://www.youtube.com/watch?v=DqDeH3hwxfw', 'https://www.youtube.com/watch?v=tgn2BmHhVf0', 'https://www.youtube.com/watch?v=G3QX2aMdeI0', 'https://www.youtube.com/watch?v=etAIpkdhU9Q', 'https://www.youtube.com/watch?v=Kt-tLuszKBA', 'https://www.youtube.com/watch?v=xnKhsTXoKCI', 'https://www.youtube.com/watch?v=J51LPlP-s9o', 'https://www.youtube.com/watch?v=9d4ui9q7eDM', 'https://www.youtube.com/watch?v=EzgGTTtR0kc', 'https://www.youtube.com/watch?v=dTaD9cd8hvw', 'https://www.youtube.com/watch?v=5s7_WbiR79E', 'https://www.youtube.com/watch?v=cen1SvpTsYk', 'https://www.youtube.com/watch?v=CD-E-LDc384', 'https://www.youtube.com/watch?v=nM__lPTWThU', 'https://www.youtube.com/watch?v=CSvFpBOe8eY', 'https://www.youtube.com/watch?v=K6_zsJ8KPP0', 'https://www.youtube.com/watch?v=uJ6QHfZwTSw', 'https://www.youtube.com/watch?v=tTO1n7GNXyM', 'https://www.youtube.com/watch?v=IfRY3SsozuM', 'https://www.youtube.com/watch?v=2DfYLar2QGI', 'https://www.youtube.com/watch?v=bwDpAfFzcRQ', 'https://www.youtube.com/watch?v=1OYw7FPB7CE', 'https://www.youtube.com/watch?v=C4nCy5CITc8', 'https://www.youtube.com/watch?v=jsmcDLDw9iw', 'https://www.youtube.com/watch?v=dKILvAggpYw', 'https://www.youtube.com/watch?v=2KnyL4IFcwo', 'https://www.youtube.com/watch?v=Wm58sGEdgAw', 'https://www.youtube.com/watch?v=v_09wFxoaeQ', 'https://www.youtube.com/watch?v=3moLkjvhEu0', 'https://www.youtube.com/watch?v=X_hwIHIqeEc', 'https://www.youtube.com/watch?v=pAgnJDJN4VA', 'https://www.youtube.com/watch?v=uebInqG1pJI', 'https://www.youtube.com/watch?v=AkFqg5wAuFk', 'https://www.youtube.com/watch?v=5qmCuwDYidw', 'https://www.youtube.com/watch?v=VNpy2K27PKU', 'https://www.youtube.com/watch?v=94bGzWyHbu0', 'https://www.youtube.com/watch?v=LWCOqNHzM0k', 'https://www.youtube.com/watch?v=17HRV8k1YMw', 'https://www.youtube.com/watch?v=IaMIRAtso2k', 'https://www.youtube.com/watch?v=y60Mo_Nmydg', 'https://www.youtube.com/watch?v=9fM3ylFs3hs', 'https://www.youtube.com/watch?v=Wws7mnMewPw', 'https://www.youtube.com/watch?v=6fVE8kSM43I', 'https://www.youtube.com/watch?v=rvuO2EvCTAE', 'https://www.youtube.com/watch?v=a3JSbOt7CLo', 'https://www.youtube.com/watch?v=HL9kaJZw8iw', 'https://www.youtube.com/watch?v=QWuXmfgXVxY', 'https://www.youtube.com/watch?v=QUvVdTlA23w', 'https://www.youtube.com/watch?v=Q4Fvf6JFP4U', 'https://www.youtube.com/watch?v=UhjG47gtMCo', 'https://www.youtube.com/watch?v=3YxaaGgTQYM', 'https://www.youtube.com/watch?v=iywaBOMvYLI', 'https://www.youtube.com/watch?v=IZ7Aif5aXlQ', 'https://www.youtube.com/watch?v=oGAHh0GPKRA', 'https://www.youtube.com/watch?v=LY5WEJ-tiC8', 'https://www.youtube.com/watch?v=9sTQ0QdkN3Q', 'https://www.youtube.com/watch?v=VyctTU_0FiM', 'https://www.youtube.com/watch?v=riwxbh_n_WM', 'https://www.youtube.com/watch?v=bWXazVhlyxQ', 'https://www.youtube.com/watch?v=y07nCSxwkso', 'https://www.youtube.com/watch?v=Y2e47wBWTV8', 'https://www.youtube.com/watch?v=dkKOfB_g5rk', 'https://www.youtube.com/watch?v=W6CjO0H2j0s', 'https://www.youtube.com/watch?v=09LTT0xwdfw', 'https://www.youtube.com/watch?v=OuK4OcMUGcg', 'https://www.youtube.com/watch?v=UO_84C3fpuI', 'https://www.youtube.com/watch?v=6NvntVb0Q_o', 'https://www.youtube.com/watch?v=oqdZpxkzNvc', 'https://www.youtube.com/watch?v=ZO6giM9UAv0', 'https://www.youtube.com/watch?v=h8IuFl3sMhk', 'https://www.youtube.com/watch?v=5YslJ4ScJKs', 'https://www.youtube.com/watch?v=oN6TjsBeJsM', 'https://www.youtube.com/watch?v=lYPFrXvc2rE', 'https://www.youtube.com/watch?v=EKSU1W0ZUmQ', 'https://www.youtube.com/watch?v=Ij99dud8-0A', 'https://www.youtube.com/watch?v=3ZlDZPYzfm4', 'https://www.youtube.com/watch?v=0jgrCKhxE1s', 'https://www.youtube.com/watch?v=pTYHYglem-M', 'https://www.youtube.com/watch?v=kXYiU_JCYtU', 'https://www.youtube.com/watch?v=0Xfvk028Kv0', 'https://www.youtube.com/watch?v=Noz6-KaT4fA', 'https://www.youtube.com/watch?v=ZVinwOpllQk', 'https://www.youtube.com/watch?v=L397TWLwrUU', 'https://www.youtube.com/watch?v=ZLk75fFXqH4', 'https://www.youtube.com/watch?v=9e4xLo56xE4', 'https://www.youtube.com/watch?v=-qYqi-EMErU', 'https://www.youtube.com/watch?v=UR7k3XnvbU0', 'https://www.youtube.com/watch?v=eIyileQzcug', 'https://www.youtube.com/watch?v=o1tj2zJ2Wvg', 'https://www.youtube.com/watch?v=4puradUR-Y0', 'https://www.youtube.com/watch?v=zUzd9KyIDrM', 'https://www.youtube.com/watch?v=q2I0ulTZWXA', 'https://www.youtube.com/watch?v=zUwEIt9ez7M', 'https://www.youtube.com/watch?v=mXOr4jgTYRI', 'https://www.youtube.com/watch?v=3L4YrGaR8E4', 'https://www.youtube.com/watch?v=IVfXRmw5QEY', 'https://www.youtube.com/watch?v=jRGrNDV2mKc', 'https://www.youtube.com/watch?v=SGK00Q7xx-s', 'https://www.youtube.com/watch?v=v2AC41dglnM', 'https://www.youtube.com/watch?v=1w7OgIMMRc4']\n",
            "sample links from 241 jazz songs from the playlist: ['https://www.youtube.com/watch?v=vmDDOFXSgAs', 'https://www.youtube.com/watch?v=N3xeX3MqJew', 'https://www.youtube.com/watch?v=RPfFhfSuUZ4', 'https://www.youtube.com/watch?v=ESHfzQqahr8', 'https://www.youtube.com/watch?v=qWG2dsXV5HI', 'https://www.youtube.com/watch?v=RPfFhfSuUZ4', 'https://www.youtube.com/watch?v=qWG2dsXV5HI', 'https://www.youtube.com/watch?v=_sI_Ps7JSEk', 'https://www.youtube.com/watch?v=UayFuEbHxrs', 'https://www.youtube.com/watch?v=Nu4tjTyqbho', 'https://www.youtube.com/watch?v=tT9Eh8wNMkw', 'https://www.youtube.com/watch?v=CpB7-8SGlJ0', 'https://www.youtube.com/watch?v=WRNlE7-Il3I', 'https://www.youtube.com/watch?v=neV3EPgvZ3g', 'https://www.youtube.com/watch?v=aq0m0hbCjFQ', 'https://www.youtube.com/watch?v=zqNTltOGh5c', 'https://www.youtube.com/watch?v=lR7icNffxXE', 'https://www.youtube.com/watch?v=2VN8zH366M8', 'https://www.youtube.com/watch?v=k3_tw44QsZQ', 'https://www.youtube.com/watch?v=d70Lr4qToZ8', 'https://www.youtube.com/watch?v=CdnaJPPxQow', 'https://www.youtube.com/watch?v=-488UORrfJ0', 'https://www.youtube.com/watch?v=rqpriUFsMQQ', 'https://www.youtube.com/watch?v=fsJ3JjpZyoA', 'https://www.youtube.com/watch?v=QfZruW3NI6c', 'https://www.youtube.com/watch?v=RPfFhfSuUZ4', 'https://www.youtube.com/watch?v=vmDDOFXSgAs', 'https://www.youtube.com/watch?v=ZrfzenYhv9w', 'https://www.youtube.com/watch?v=CWeXOm49kE0', 'https://www.youtube.com/watch?v=qJi03NqXfk8', 'https://www.youtube.com/watch?v=qWG2dsXV5HI', 'https://www.youtube.com/watch?v=WqEweV0eScg', 'https://www.youtube.com/watch?v=TDETNk20Vkc', 'https://www.youtube.com/watch?v=xISaCzXYYg8', 'https://www.youtube.com/watch?v=N76ErzOdk9g', 'https://www.youtube.com/watch?v=Cx-TxiBi43c', 'https://www.youtube.com/watch?v=zGsGwFBoEgc', 'https://www.youtube.com/watch?v=HmroWIcCNUI', 'https://www.youtube.com/watch?v=ujChUYkPvec', 'https://www.youtube.com/watch?v=h6NCx0wcrC4', 'https://www.youtube.com/watch?v=ECw3WAX41OA', 'https://www.youtube.com/watch?v=I777BcgQL9o', 'https://www.youtube.com/watch?v=yXK0pZx92MU', 'https://www.youtube.com/watch?v=jUN01HYwRX4', 'https://www.youtube.com/watch?v=KsAf0ra6Vd4', 'https://www.youtube.com/watch?v=-488UORrfJ0', 'https://www.youtube.com/watch?v=CTzRHq_cH5E', 'https://www.youtube.com/watch?v=mP0flneNfaQ', 'https://www.youtube.com/watch?v=6tBJa8Ew6fQ', 'https://www.youtube.com/watch?v=u23Etcb-L9M', 'https://www.youtube.com/watch?v=YjRbmtrDJI4', 'https://www.youtube.com/watch?v=0rjP5MPA3qs', 'https://www.youtube.com/watch?v=fvJzCdgB3Tc', 'https://www.youtube.com/watch?v=1OKduoWWWsE', 'https://www.youtube.com/watch?v=36wafFjFdYs', 'https://www.youtube.com/watch?v=M69YdmAJoLs', 'https://www.youtube.com/watch?v=9ohyLzAu_qM', 'https://www.youtube.com/watch?v=47vdxkLj4nU', 'https://www.youtube.com/watch?v=qlIbs0mZYSA', 'https://www.youtube.com/watch?v=AL5G6QnW-ek', 'https://www.youtube.com/watch?v=_40V2lcxM7k', 'https://www.youtube.com/watch?v=RJEjFh2FOzA', 'https://www.youtube.com/watch?v=2vOWMz1z7rk', 'https://www.youtube.com/watch?v=c-69SscIpC8', 'https://www.youtube.com/watch?v=OYo6G8RBjAE', 'https://www.youtube.com/watch?v=dEOjjeYEiRs', 'https://www.youtube.com/watch?v=L97XaO61d7k', 'https://www.youtube.com/watch?v=a1WDW-swiAA', 'https://www.youtube.com/watch?v=8TdY6iqV2k0', 'https://www.youtube.com/watch?v=IrVnm66joQk', 'https://www.youtube.com/watch?v=fvRkGglLe-U', 'https://www.youtube.com/watch?v=UA2XIWZxMKM', 'https://www.youtube.com/watch?v=s4rXEKtC8iY', 'https://www.youtube.com/watch?v=tLfdtNoDD_A', 'https://www.youtube.com/watch?v=CsHtO_i4qzM', 'https://www.youtube.com/watch?v=5m2HN2y0yV8', 'https://www.youtube.com/watch?v=fuqW-wUZ8V4', 'https://www.youtube.com/watch?v=6WjW5orDM2c', 'https://www.youtube.com/watch?v=YjRWditGKRY', 'https://www.youtube.com/watch?v=jsFST-7Hx-Y', 'https://www.youtube.com/watch?v=eNWDwOsQqlw', 'https://www.youtube.com/watch?v=K9q4LRyhufo', 'https://www.youtube.com/watch?v=W985hWD5KYg', 'https://www.youtube.com/watch?v=0Q7J4PgrRsY', 'https://www.youtube.com/watch?v=dH3GSrCmzC8', 'https://www.youtube.com/watch?v=kOO8Gzr__zc', 'https://www.youtube.com/watch?v=q1z2BdvHVCk', 'https://www.youtube.com/watch?v=KV0HX9sk_04', 'https://www.youtube.com/watch?v=_3vpiTgG59A', 'https://www.youtube.com/watch?v=K_h1geOaLvY', 'https://www.youtube.com/watch?v=u37RF5xKNq8', 'https://www.youtube.com/watch?v=KAlVasHbipo', 'https://www.youtube.com/watch?v=2FaMtXw2mRE', 'https://www.youtube.com/watch?v=Bm1NxfevGro', 'https://www.youtube.com/watch?v=w3TMe98FJDw', 'https://www.youtube.com/watch?v=II_LtoZGSVg', 'https://www.youtube.com/watch?v=or5qBh8Xbpc', 'https://www.youtube.com/watch?v=wA1ZelIbUfI', 'https://www.youtube.com/watch?v=u2xx3YTu2ac', 'https://www.youtube.com/watch?v=lBbGRxSiYBs', 'https://www.youtube.com/watch?v=f60JYoHdfVM', 'https://www.youtube.com/watch?v=Lo18F5ObPng', 'https://www.youtube.com/watch?v=qagOblqhBhk', 'https://www.youtube.com/watch?v=gwaFDFP7m_E', 'https://www.youtube.com/watch?v=wwO5TZdNWok', 'https://www.youtube.com/watch?v=RcOIUECTPtU', 'https://www.youtube.com/watch?v=0yQyjcpnx3g', 'https://www.youtube.com/watch?v=x8UcxgE21kM', 'https://www.youtube.com/watch?v=fhCinGFUCeU', 'https://www.youtube.com/watch?v=hbreWwFKQNg', 'https://www.youtube.com/watch?v=hLUyVyM626A', 'https://www.youtube.com/watch?v=zre0u5XyNfY', 'https://www.youtube.com/watch?v=k0FJ1SdS-ts', 'https://www.youtube.com/watch?v=fKb0Sc2lYVU', 'https://www.youtube.com/watch?v=x8cFdZyWOOs', 'https://www.youtube.com/watch?v=BO_Lfk-8P5c', 'https://www.youtube.com/watch?v=ADPgTmca6Zs', 'https://www.youtube.com/watch?v=hkyJQcmVtZQ', 'https://www.youtube.com/watch?v=BqLDTKun4so', 'https://www.youtube.com/watch?v=Oi4G6UmYK9U']\n",
            "sample links from 101 classical songs from the playlist: ['https://www.youtube.com/watch?v=Zi8vJ_lMxQI', 'https://www.youtube.com/watch?v=wXQCPAR0EHo', 'https://www.youtube.com/watch?v=9E6b3swbnWg', 'https://www.youtube.com/watch?v=EYydbECKQJw', 'https://www.youtube.com/watch?v=9E6b3swbnWg', 'https://www.youtube.com/watch?v=EFJ7kDva7JE', 'https://www.youtube.com/watch?v=uELhJmYq2i0', 'https://www.youtube.com/watch?v=3mi145S-HfQ', 'https://www.youtube.com/watch?v=y1dbbrfekAM', 'https://www.youtube.com/watch?v=I0kVNMHo6fQ', 'https://www.youtube.com/watch?v=9_C6CTs0WhI', 'https://www.youtube.com/watch?v=K0k1WCPWZ8Q', 'https://www.youtube.com/watch?v=jgpJVI3tDbY', 'https://www.youtube.com/watch?v=O2deXwf4drE', 'https://www.youtube.com/watch?v=4Tr0otuiQuU', 'https://www.youtube.com/watch?v=-7jjo8UICjQ', 'https://www.youtube.com/watch?v=mIYzp5rcTvU', 'https://www.youtube.com/watch?v=9uKVI6_Fm4g', 'https://www.youtube.com/watch?v=VB6SIKl8Md0', 'https://www.youtube.com/watch?v=FS6o3qFimsc', 'https://www.youtube.com/watch?v=mGQLXRTl3Z0', 'https://www.youtube.com/watch?v=GRxofEmo3HA', 'https://www.youtube.com/watch?v=_ioc6sdgugo', 'https://www.youtube.com/watch?v=dN1XUV6QclU', 'https://www.youtube.com/watch?v=9E6b3swbnWg', 'https://www.youtube.com/watch?v=Zi8vJ_lMxQI', 'https://www.youtube.com/watch?v=CvFH_6DNRCY', 'https://www.youtube.com/watch?v=_4IRMYuE1hI', 'https://www.youtube.com/watch?v=YyknBTm_YyM', 'https://www.youtube.com/watch?v=GXFSK0ogeg4', 'https://www.youtube.com/watch?v=VbxgYlcNxE8', 'https://www.youtube.com/watch?v=z7rxl5KsPjs', 'https://www.youtube.com/watch?v=DUmq1cpcglQ', 'https://www.youtube.com/watch?v=7lC1lRz5Z_s', 'https://www.youtube.com/watch?v=GGU1P6lBW6Q', 'https://www.youtube.com/watch?v=iCEDfZgDPS8', 'https://www.youtube.com/watch?v=5poSw7tFLB4', 'https://www.youtube.com/watch?v=TZCfydWF48c', 'https://www.youtube.com/watch?v=fBA-38mzabs', 'https://www.youtube.com/watch?v=36Y_ztEW1NE', 'https://www.youtube.com/watch?v=vCHREyE5GzQ', 'https://www.youtube.com/watch?v=F5zg_af9b8c', 'https://www.youtube.com/watch?v=mgHxmAsINDk', 'https://www.youtube.com/watch?v=wXQCPAR0EHo', 'https://www.youtube.com/watch?v=M_VCbnqbwwA', 'https://www.youtube.com/watch?v=_jBLyIQvNf0', 'https://www.youtube.com/watch?v=Sy-yugPw_X8', 'https://www.youtube.com/watch?v=Nx5c_JZIM6M', 'https://www.youtube.com/watch?v=hZY5DBmgC_A', 'https://www.youtube.com/watch?v=7cb1QmTkOAI', 'https://www.youtube.com/watch?v=7nVmFlSV1ok', 'https://www.youtube.com/watch?v=WeAc0oh818s', 'https://www.youtube.com/watch?v=6_UPjZyxn0Q', 'https://www.youtube.com/watch?v=WZ4wOpFstT8', 'https://www.youtube.com/watch?v=hopaQjQFUYw', 'https://www.youtube.com/watch?v=PhcYvl0Cxh0', 'https://www.youtube.com/watch?v=D3qbOTgEJOk', 'https://www.youtube.com/watch?v=3m5ohobcKb8', 'https://www.youtube.com/watch?v=BLSXaJIaKfo', 'https://www.youtube.com/watch?v=QSomvC6rwgU', 'https://www.youtube.com/watch?v=bMipey2Q4hE', 'https://www.youtube.com/watch?v=2AsGdP5jeKA', 'https://www.youtube.com/watch?v=hmNAvgQ9ZjY', 'https://www.youtube.com/watch?v=x_CLwjp2Zu8', 'https://www.youtube.com/watch?v=7jKvoXJ5KOY', 'https://www.youtube.com/watch?v=gxyA5bgpels', 'https://www.youtube.com/watch?v=JlORKi6A_SE', 'https://www.youtube.com/watch?v=LXzA4oquapY', 'https://www.youtube.com/watch?v=DbGVdKSKoEQ', 'https://www.youtube.com/watch?v=2shqZIeVBHU', 'https://www.youtube.com/watch?v=pTbwQ6G-bP0', 'https://www.youtube.com/watch?v=1ZzjpnSdeVA', 'https://www.youtube.com/watch?v=w4gaYNVCywg', 'https://www.youtube.com/watch?v=cbzYaf-_DbI', 'https://www.youtube.com/watch?v=5XPYkSzxYhY', 'https://www.youtube.com/watch?v=ZS-HWIFyLsE', 'https://www.youtube.com/watch?v=VrOosUb0shw', 'https://www.youtube.com/watch?v=FK-KC2aQpcI', 'https://www.youtube.com/watch?v=9BDlqlhcCIk', 'https://www.youtube.com/watch?v=pUBymqCBs4g', 'https://www.youtube.com/watch?v=9E6b3swbnWg', 'https://www.youtube.com/watch?v=Zi8vJ_lMxQI', 'https://www.youtube.com/watch?v=cbzYaf-_DbI', 'https://www.youtube.com/watch?v=wXQCPAR0EHo', 'https://www.youtube.com/watch?v=36Y_ztEW1NE', 'https://www.youtube.com/watch?v=9E6b3swbnWg', 'https://www.youtube.com/watch?v=EYydbECKQJw', 'https://www.youtube.com/watch?v=EFJ7kDva7JE', 'https://www.youtube.com/watch?v=uELhJmYq2i0', 'https://www.youtube.com/watch?v=3mi145S-HfQ', 'https://www.youtube.com/watch?v=y1dbbrfekAM', 'https://www.youtube.com/watch?v=I0kVNMHo6fQ', 'https://www.youtube.com/watch?v=9_C6CTs0WhI', 'https://www.youtube.com/watch?v=K0k1WCPWZ8Q', 'https://www.youtube.com/watch?v=jgpJVI3tDbY', 'https://www.youtube.com/watch?v=O2deXwf4drE', 'https://www.youtube.com/watch?v=4Tr0otuiQuU', 'https://www.youtube.com/watch?v=-7jjo8UICjQ', 'https://www.youtube.com/watch?v=9E6b3swbnWg', 'https://www.youtube.com/watch?v=azao0lM0CTE', 'https://www.youtube.com/watch?v=mxK1lLMEzX0']\n",
            "sample links from 74 opera songs from the playlist: ['https://www.youtube.com/watch?v=sMVFXfoaS3w', 'https://www.youtube.com/watch?v=CJiiBq8UnIY', 'https://www.youtube.com/watch?v=Uau48wh5CeI', 'https://www.youtube.com/watch?v=kpUaqE00y70', 'https://www.youtube.com/watch?v=cWc7vYjgnTs', 'https://www.youtube.com/watch?v=Uau48wh5CeI', 'https://www.youtube.com/watch?v=sMVFXfoaS3w', 'https://www.youtube.com/watch?v=g4LOpDVkzD0', 'https://www.youtube.com/watch?v=6S5xHMbU-mA', 'https://www.youtube.com/watch?v=2J7JM0tGgRY', 'https://www.youtube.com/watch?v=w77SFM7Fksc', 'https://www.youtube.com/watch?v=5ZDGPKcEPJ8', 'https://www.youtube.com/watch?v=a5lYyMNxR4Q', 'https://www.youtube.com/watch?v=qt_OkgSOrkU', 'https://www.youtube.com/watch?v=xN-JCdM4or0', 'https://www.youtube.com/watch?v=mqIljeeoLXE', 'https://www.youtube.com/watch?v=mhhkGyJ092E', 'https://www.youtube.com/watch?v=Bg-An7TQBbI', 'https://www.youtube.com/watch?v=Tos3o_GWED4', 'https://www.youtube.com/watch?v=phBThlPTBEg', 'https://www.youtube.com/watch?v=6R5-FXVHruQ', 'https://www.youtube.com/watch?v=QJ2ZM-3YTg0', 'https://www.youtube.com/watch?v=mONTSRzdRZw', 'https://www.youtube.com/watch?v=JJwecS3kNCM', 'https://www.youtube.com/watch?v=pWffUAg8zyc', 'https://www.youtube.com/watch?v=Uau48wh5CeI', 'https://www.youtube.com/watch?v=sMVFXfoaS3w', 'https://www.youtube.com/watch?v=2oaIcChc4tI', 'https://www.youtube.com/watch?v=rvQvcLXHWI4', 'https://www.youtube.com/watch?v=3omEZ3XyM74', 'https://www.youtube.com/watch?v=JhLxK2xGqqo', 'https://www.youtube.com/watch?v=nFs1fDOmHVw', 'https://www.youtube.com/watch?v=PxZJzuVG6W8', 'https://www.youtube.com/watch?v=y5N4l2MaccI', 'https://www.youtube.com/watch?v=0LgkkwyUK_A', 'https://www.youtube.com/watch?v=8rjMS13CgT4', 'https://www.youtube.com/watch?v=CJiiBq8UnIY', 'https://www.youtube.com/watch?v=Bmi-_oT2kF8', 'https://www.youtube.com/watch?v=Iv0W04G44Ls', 'https://www.youtube.com/watch?v=01f8_3LdJdo', 'https://www.youtube.com/watch?v=SbkBlg7a78U', 'https://www.youtube.com/watch?v=lfgTHyZ4S5o', 'https://www.youtube.com/watch?v=d3xhWNVIV3g', 'https://www.youtube.com/watch?v=mgSH4A-V9HQ', 'https://www.youtube.com/watch?v=-rV3FvlvXa8', 'https://www.youtube.com/watch?v=LqcD2c5WFIc', 'https://www.youtube.com/watch?v=0Wlcr2bIKmk', 'https://www.youtube.com/watch?v=rQoATtAODzY', 'https://www.youtube.com/watch?v=Hyc_BrXA_Ow', 'https://www.youtube.com/watch?v=-KY2TlUHggw', 'https://www.youtube.com/watch?v=Z3Zq8KXUAo0', 'https://www.youtube.com/watch?v=N7RLPGr832o', 'https://www.youtube.com/watch?v=540gS4gru7w', 'https://www.youtube.com/watch?v=3J99JXVYfwQ', 'https://www.youtube.com/watch?v=Uau48wh5CeI', 'https://www.youtube.com/watch?v=sMVFXfoaS3w', 'https://www.youtube.com/watch?v=3J99JXVYfwQ', 'https://www.youtube.com/watch?v=CJiiBq8UnIY', 'https://www.youtube.com/watch?v=JhLxK2xGqqo', 'https://www.youtube.com/watch?v=Uau48wh5CeI', 'https://www.youtube.com/watch?v=cWc7vYjgnTs', 'https://www.youtube.com/watch?v=sMVFXfoaS3w', 'https://www.youtube.com/watch?v=g4LOpDVkzD0', 'https://www.youtube.com/watch?v=6S5xHMbU-mA', 'https://www.youtube.com/watch?v=2J7JM0tGgRY', 'https://www.youtube.com/watch?v=w77SFM7Fksc', 'https://www.youtube.com/watch?v=5ZDGPKcEPJ8', 'https://www.youtube.com/watch?v=a5lYyMNxR4Q', 'https://www.youtube.com/watch?v=qt_OkgSOrkU', 'https://www.youtube.com/watch?v=xN-JCdM4or0', 'https://www.youtube.com/watch?v=mqIljeeoLXE', 'https://www.youtube.com/watch?v=mhhkGyJ092E', 'https://www.youtube.com/watch?v=Uau48wh5CeI', 'https://www.youtube.com/watch?v=v_z-6NukGIw']\n",
            "There are in total 1570 samples!\n"
          ],
          "name": "stdout"
        }
      ]
    },
    {
      "cell_type": "code",
      "metadata": {
        "id": "U5zHkSuszXJ2",
        "colab_type": "code",
        "colab": {
          "base_uri": "https://localhost:8080/",
          "height": 54
        },
        "outputId": "91e98ca1-8028-437e-ce27-7695ed800e66"
      },
      "source": [
        "print(categoriSoLinkovi[0])"
      ],
      "execution_count": null,
      "outputs": [
        {
          "output_type": "stream",
          "text": [
            "['https://www.youtube.com/watch?v=oygrmJFKYZY', 'https://www.youtube.com/watch?v=HCjNJDNzw8Y', 'https://www.youtube.com/watch?v=SlPhMPnQ58k', 'https://www.youtube.com/watch?v=aJOTlE1K90k', 'https://www.youtube.com/watch?v=SlPhMPnQ58k', 'https://www.youtube.com/watch?v=aJOTlE1K90k', 'https://www.youtube.com/watch?v=JPJjwHAIny4', 'https://www.youtube.com/watch?v=vZA5heWazIQ', 'https://www.youtube.com/watch?v=nIjVuRTm-dc', 'https://www.youtube.com/watch?v=09R8_2nJtjg', 'https://www.youtube.com/watch?v=rtOvBOTyX00', 'https://www.youtube.com/watch?v=Iic_OOZKexw', 'https://www.youtube.com/watch?v=hT_nvWreIhg', 'https://www.youtube.com/watch?v=cBVGlBWQzuc', 'https://www.youtube.com/watch?v=ANS9sSJA9Yc', 'https://www.youtube.com/watch?v=i8VKeDheoUM', 'https://www.youtube.com/watch?v=2Vv-BfVoq4g', 'https://www.youtube.com/watch?v=bo_efYhYU2A', 'https://www.youtube.com/watch?v=5Wiio4KoGe8', 'https://www.youtube.com/watch?v=lp-EO5I60KA', 'https://www.youtube.com/watch?v=zABLecsR5UE', 'https://www.youtube.com/watch?v=RBumgq5yVrA', 'https://www.youtube.com/watch?v=450p7goxZqg', 'https://www.youtube.com/watch?v=ShZ978fBl6Y', 'https://www.youtube.com/watch?v=SlPhMPnQ58k', 'https://www.youtube.com/watch?v=oygrmJFKYZY', 'https://www.youtube.com/watch?v=4NRXx6U8ABQ', 'https://www.youtube.com/watch?v=bNU_AA0aALM', 'https://www.youtube.com/watch?v=gejbbL1AaJk', 'https://www.youtube.com/watch?v=V_jHc_n0p9c', 'https://www.youtube.com/watch?v=E07s5ZYygMg', 'https://www.youtube.com/watch?v=pok8H_KF1FA', 'https://www.youtube.com/watch?v=9p2wMpVVtXg', 'https://www.youtube.com/watch?v=gZIsMh3IS7E', 'https://www.youtube.com/watch?v=UNZqm3dxd2w', 'https://www.youtube.com/watch?v=Nj2U6rhnucI', 'https://www.youtube.com/watch?v=l7lvdB9FmuE', 'https://www.youtube.com/watch?v=dqRZDebPIGs', 'https://www.youtube.com/watch?v=L7mfjvdnPno', 'https://www.youtube.com/watch?v=sPC1eM8J4EE', 'https://www.youtube.com/watch?v=VF-r5TtlT9w', 'https://www.youtube.com/watch?v=kZRqYAfj19o', 'https://www.youtube.com/watch?v=9HDEHj2yzew', 'https://www.youtube.com/watch?v=16YnOUnbE6s', 'https://www.youtube.com/watch?v=wXhTHyIgQ_U', 'https://www.youtube.com/watch?v=fHI8X4OXluQ', 'https://www.youtube.com/watch?v=1DpH-icPpl0', 'https://www.youtube.com/watch?v=EgBJmlPo8Xw', 'https://www.youtube.com/watch?v=6fd2kkLmSDQ', 'https://www.youtube.com/watch?v=yMlKJGKyoCo', 'https://www.youtube.com/watch?v=q0hyYWKXF0Q', 'https://www.youtube.com/watch?v=EzKkl64rRbM', 'https://www.youtube.com/watch?v=5L6xyaeiV58', 'https://www.youtube.com/watch?v=8nBFqZppIF0', 'https://www.youtube.com/watch?v=ia1iuXbEaYQ', 'https://www.youtube.com/watch?v=vImvzQCb0o8', 'https://www.youtube.com/watch?v=M-j159LFwGw', 'https://www.youtube.com/watch?v=C5RrNaCfUXE', 'https://www.youtube.com/watch?v=AqAJLh9wuZ0', 'https://www.youtube.com/watch?v=zlJDTxahav0', 'https://www.youtube.com/watch?v=jnwDkVo6DxA', 'https://www.youtube.com/watch?v=1DmwyNkmTJ0', 'https://www.youtube.com/watch?v=uQcQsIL5UNU', 'https://www.youtube.com/watch?v=CMla2ZIz7-4', 'https://www.youtube.com/watch?v=Pkh8UtuejGw', 'https://www.youtube.com/watch?v=JGwWNGJdvx8', 'https://www.youtube.com/watch?v=mj0XInqZMHY', 'https://www.youtube.com/watch?v=PmYypVozQb4', 'https://www.youtube.com/watch?v=tP-zl8ruUKE', 'https://www.youtube.com/watch?v=A48hOToMuRE', 'https://www.youtube.com/watch?v=jTMzLbz9_r0', 'https://www.youtube.com/watch?v=9SRxBTtspYM', 'https://www.youtube.com/watch?v=9TQKyDD9Yig', 'https://www.youtube.com/watch?v=DyDfgMOUjCI', 'https://www.youtube.com/watch?v=S4asq3SicN0', 'https://www.youtube.com/watch?v=QYh6mYIJG2Y', 'https://www.youtube.com/watch?v=r7qovpFAGrQ', 'https://www.youtube.com/watch?v=CnAmeh0-E-U', 'https://www.youtube.com/watch?v=P00HMxdsVZI', 'https://www.youtube.com/watch?v=oOni4BMeMp0', 'https://www.youtube.com/watch?v=lzkKzZmRZk8', 'https://www.youtube.com/watch?v=UZwi9SHgzGY', 'https://www.youtube.com/watch?v=vOXZkm9p_zY', 'https://www.youtube.com/watch?v=fM7_jMD8EIM', 'https://www.youtube.com/watch?v=PjelIssAltY', 'https://www.youtube.com/watch?v=Tztc73r8348', 'https://www.youtube.com/watch?v=aJOTlE1K90k', 'https://www.youtube.com/watch?v=zNl00mOSnJI', 'https://www.youtube.com/watch?v=qC_SxaXL8bs', 'https://www.youtube.com/watch?v=rbHIDVVTSNA', 'https://www.youtube.com/watch?v=x_-j5eLR1Rc', 'https://www.youtube.com/watch?v=dhYOPzcsbGM', 'https://www.youtube.com/watch?v=Srq1FqFPwj0', 'https://www.youtube.com/watch?v=Hue77rbsFlU', 'https://www.youtube.com/watch?v=7T2RonyJ_Ts', 'https://www.youtube.com/watch?v=F-cO2CMue4Q', 'https://www.youtube.com/watch?v=hY1tULEr4-4', 'https://www.youtube.com/watch?v=aEb5gNsmGJ8', 'https://www.youtube.com/watch?v=3XCVM3G3pns', 'https://www.youtube.com/watch?v=8OwVaewDtS8', 'https://www.youtube.com/watch?v=u07cFymU0e0', 'https://www.youtube.com/watch?v=8_JbZvHc92U', 'https://www.youtube.com/watch?v=YrbgUtCfnC0', 'https://www.youtube.com/watch?v=SxGLPVvNjvY', 'https://www.youtube.com/watch?v=LFnV-vb1Bxc', 'https://www.youtube.com/watch?v=bo_efYhYU2A', 'https://www.youtube.com/watch?v=J1OsKJW51HY', 'https://www.youtube.com/watch?v=mt2zvsvkKKo', 'https://www.youtube.com/watch?v=Q33DvcjXA7M', 'https://www.youtube.com/watch?v=u8tdT5pAE34', 'https://www.youtube.com/watch?v=fTNnwzXrVdg', 'https://www.youtube.com/watch?v=SJOgTMP8cs4', 'https://www.youtube.com/watch?v=WXBHCQYxwr0', 'https://www.youtube.com/watch?v=A9hcJgtnm6Q', 'https://www.youtube.com/watch?v=A8N4_cjLXH8', 'https://www.youtube.com/watch?v=ft4jcPSLJfY', 'https://www.youtube.com/watch?v=0H6vdQSXaR4', 'https://www.youtube.com/watch?v=hE2Ira-Cwxo', 'https://www.youtube.com/watch?v=LH4Y1ZUUx2g', 'https://www.youtube.com/watch?v=bPYefBD1Rzs', 'https://www.youtube.com/watch?v=3y-O-4IL-PU', 'https://www.youtube.com/watch?v=TIjK17v9vj4', 'https://www.youtube.com/watch?v=kO8fTk6oKQg', 'https://www.youtube.com/watch?v=BQogzYUoQWU', 'https://www.youtube.com/watch?v=Ao3XJ-UDdzI', 'https://www.youtube.com/watch?v=av5JD1dfj_c', 'https://www.youtube.com/watch?v=5hqK-A0UxKw', 'https://www.youtube.com/watch?v=8JnfIa84TnU', 'https://www.youtube.com/watch?v=fSOpiZo1BAA', 'https://www.youtube.com/watch?v=ir6nk2zrMG0', 'https://www.youtube.com/watch?v=ixkoVwKQaJg', 'https://www.youtube.com/watch?v=JcV0SvIDjAA', 'https://www.youtube.com/watch?v=pRfmrE0ToTo', 'https://www.youtube.com/watch?v=gl1aHhXnN1k', 'https://www.youtube.com/watch?v=47EbYNhjrJc', 'https://www.youtube.com/watch?v=m7Bc3pLyij0', 'https://www.youtube.com/watch?v=LdH7aFjDzjI', 'https://www.youtube.com/watch?v=DkeiKbqa02g', 'https://www.youtube.com/watch?v=kg1BljLu9YY', 'https://www.youtube.com/watch?v=56WBK4ZK_cw', 'https://www.youtube.com/watch?v=Il-an3K9pjg', 'https://www.youtube.com/watch?v=kkLk2XWMBf8', 'https://www.youtube.com/watch?v=x3bfa3DZ8JM', 'https://www.youtube.com/watch?v=hlznpxNGFGQ', 'https://www.youtube.com/watch?v=uF9YayOgjRg', 'https://www.youtube.com/watch?v=kN0iD0pI3o0', 'https://www.youtube.com/watch?v=XCQK6LmhYqc', 'https://www.youtube.com/watch?v=btrzs54s1Rc', 'https://www.youtube.com/watch?v=n_1XpKHWMU0', 'https://www.youtube.com/watch?v=VY1eFxgRR-k', 'https://www.youtube.com/watch?v=Q4-jOuHO-z4', 'https://www.youtube.com/watch?v=-MZ8guTxcFU', 'https://www.youtube.com/watch?v=bIv16itYi_0', 'https://www.youtube.com/watch?v=kHLHSlExFis', 'https://www.youtube.com/watch?v=XeKoCLVXKNo', 'https://www.youtube.com/watch?v=nuckTcoZG4Q', 'https://www.youtube.com/watch?v=77RmU8QcM4k', 'https://www.youtube.com/watch?v=sJXZ9Dok7u8', 'https://www.youtube.com/watch?v=5vheNbQlsyU', 'https://www.youtube.com/watch?v=DylzGXE_ibU', 'https://www.youtube.com/watch?v=6-v1b9waHWY', 'https://www.youtube.com/watch?v=RnH1288zn-g', 'https://www.youtube.com/watch?v=84yTsE4eNYQ', 'https://www.youtube.com/watch?v=kxloC1MKTpg', 'https://www.youtube.com/watch?v=UYwF-jdcVjY', 'https://www.youtube.com/watch?v=EKF6ghfcQic', 'https://www.youtube.com/watch?v=ZisN7CcIatw', 'https://www.youtube.com/watch?v=k73EBmeJ950', 'https://www.youtube.com/watch?v=-qnyd7Ht9uc', 'https://www.youtube.com/watch?v=seh_fZJqB94', 'https://www.youtube.com/watch?v=xTlNMmZKwpA', 'https://www.youtube.com/watch?v=TNa_RmRby8s', 'https://www.youtube.com/watch?v=3SHJ5OywydA', 'https://www.youtube.com/watch?v=F1B9Fk_SgI0', 'https://www.youtube.com/watch?v=kcRWyLMVrFM', 'https://www.youtube.com/watch?v=EQnk-h-LCpQ', 'https://www.youtube.com/watch?v=ffxKSjUwKdU', 'https://www.youtube.com/watch?v=M-P4QBt-FWw', 'https://www.youtube.com/watch?v=bhxhNIQBKJI', 'https://www.youtube.com/watch?v=Lj6Y6JCu-l4', 'https://www.youtube.com/watch?v=tCXGJQYZ9JA', 'https://www.youtube.com/watch?v=Dh-ULbQmmF8', 'https://www.youtube.com/watch?v=jzD_yyEcp0M', 'https://www.youtube.com/watch?v=T2sO8gK2IKk', 'https://www.youtube.com/watch?v=De4FqIkvHX0', 'https://www.youtube.com/watch?v=W5kM5wAwRug', 'https://www.youtube.com/watch?v=Mgfe5tIwOj0', 'https://www.youtube.com/watch?v=JudqK1hL18w', 'https://www.youtube.com/watch?v=zxtl5ExJmag', 'https://www.youtube.com/watch?v=36tggrpRoTI', 'https://www.youtube.com/watch?v=KXanlLjOFh0', 'https://www.youtube.com/watch?v=J75enyWdbBM', 'https://www.youtube.com/watch?v=oWw1BcFhk-k', 'https://www.youtube.com/watch?v=M4ZoCHID9GI', 'https://www.youtube.com/watch?v=voG07pt-KYI', 'https://www.youtube.com/watch?v=tjA7nAHOAww', 'https://www.youtube.com/watch?v=DGzy8FE1Rhk', 'https://www.youtube.com/watch?v=TyHvyGVs42U', 'https://www.youtube.com/watch?v=ExJmET8boVw', 'https://www.youtube.com/watch?v=OQitfe8u7i4', 'https://www.youtube.com/watch?v=Els_GCWuJVk', 'https://www.youtube.com/watch?v=_I_D_8Z4sJE', 'https://www.youtube.com/watch?v=ZMmwDy-27AM', 'https://www.youtube.com/watch?v=izIyhdEHSPo', 'https://www.youtube.com/watch?v=aZla1ttZHaw', 'https://www.youtube.com/watch?v=TdyllLZeviY', 'https://www.youtube.com/watch?v=k2qgadSvNyU', 'https://www.youtube.com/watch?v=6SuMbFuKDf8', 'https://www.youtube.com/watch?v=pjTj-_55WZ8', 'https://www.youtube.com/watch?v=zDo0H8Fm7d0', 'https://www.youtube.com/watch?v=4uTNVumfm84', 'https://www.youtube.com/watch?v=Bkhpiwvvf8k', 'https://www.youtube.com/watch?v=iWZmdoY1aTE', 'https://www.youtube.com/watch?v=cH4E_t3m3xM', 'https://www.youtube.com/watch?v=2Vv-BfVoq4g', 'https://www.youtube.com/watch?v=J-dv_DcDD_A', 'https://www.youtube.com/watch?v=SA7AIQw-7Ms', 'https://www.youtube.com/watch?v=8h--kFui1JA', 'https://www.youtube.com/watch?v=C3DlM19x4RQ', 'https://www.youtube.com/watch?v=HhoATZ1Imtw', 'https://www.youtube.com/watch?v=HCjNJDNzw8Y', 'https://www.youtube.com/watch?v=Lq6q3YJqLaQ', 'https://www.youtube.com/watch?v=uZs1AHQBz24', 'https://www.youtube.com/watch?v=4kDklB6-69Q', 'https://www.youtube.com/watch?v=SlPhMPnQ58k', 'https://www.youtube.com/watch?v=oygrmJFKYZY', 'https://www.youtube.com/watch?v=HCjNJDNzw8Y', 'https://www.youtube.com/watch?v=UYwF-jdcVjY', 'https://www.youtube.com/watch?v=SlPhMPnQ58k', 'https://www.youtube.com/watch?v=aJOTlE1K90k', 'https://www.youtube.com/watch?v=JPJjwHAIny4', 'https://www.youtube.com/watch?v=vZA5heWazIQ', 'https://www.youtube.com/watch?v=nIjVuRTm-dc', 'https://www.youtube.com/watch?v=09R8_2nJtjg', 'https://www.youtube.com/watch?v=rtOvBOTyX00', 'https://www.youtube.com/watch?v=Iic_OOZKexw', 'https://www.youtube.com/watch?v=hT_nvWreIhg', 'https://www.youtube.com/watch?v=cBVGlBWQzuc', 'https://www.youtube.com/watch?v=ANS9sSJA9Yc', 'https://www.youtube.com/watch?v=i8VKeDheoUM', 'https://www.youtube.com/watch?v=SlPhMPnQ58k', 'https://www.youtube.com/watch?v=Jc1EOTFT1zU', 'https://www.youtube.com/watch?v=IPfJnp1guPc', 'https://www.youtube.com/watch?v=aJOTlE1K90k']\n"
          ],
          "name": "stdout"
        }
      ]
    },
    {
      "cell_type": "code",
      "metadata": {
        "id": "xZCPah6eYheC",
        "colab_type": "code",
        "colab": {
          "base_uri": "https://localhost:8080/",
          "height": 574
        },
        "outputId": "f2ba8b29-e8e4-403a-e765-14de8f79edb9"
      },
      "source": [
        "!pip install -U youtube-dl\n",
        "import youtube_dl\n",
        "for i in range (0,120):\n",
        "  try:\n",
        "    time.sleep(3)\n",
        "    video_url=categoriSoLinkovi[1][i]\n",
        "    video_info = youtube_dl.YoutubeDL().extract_info(\n",
        "            url=video_url, download=False\n",
        "        )\n",
        "    filename = f\"/content/metal/{video_info['title']}.mp3\"\n",
        "    options = {\n",
        "        'format': 'bestaudio/best',\n",
        "        'keepvideo': False,\n",
        "        'outtmpl': filename,\n",
        "        'postprocessors': [{\n",
        "            'key': 'FFmpegExtractAudio',\n",
        "            'preferredcodec': 'mp3',\n",
        "            'preferredquality': '192',\n",
        "        }]\n",
        "    }\n",
        "    with youtube_dl.YoutubeDL(options) as ydl:\n",
        "        ydl.download([video_info['webpage_url']])\n",
        "  except:\n",
        "    print(\"This song doesnt exists\",i)"
      ],
      "execution_count": null,
      "outputs": [
        {
          "output_type": "stream",
          "text": [
            "Requirement already up-to-date: youtube-dl in /usr/local/lib/python3.6/dist-packages (2020.9.6)\n",
            "[youtube] eVTXPUF4Oz4: Downloading webpage\n"
          ],
          "name": "stdout"
        },
        {
          "output_type": "stream",
          "text": [
            "ERROR: Unable to download webpage: HTTP Error 429: Too Many Requests (caused by <HTTPError 429: 'Too Many Requests'>); please report this issue on https://yt-dl.org/bug . Make sure you are using the latest version; see  https://yt-dl.org/update  on how to update. Be sure to call youtube-dl with the --verbose flag and include its complete output.\n"
          ],
          "name": "stderr"
        },
        {
          "output_type": "stream",
          "text": [
            "This song doesnt exists 0\n",
            "[youtube] BB0DU4DoPP4: Downloading webpage\n"
          ],
          "name": "stdout"
        },
        {
          "output_type": "stream",
          "text": [
            "ERROR: Unable to download webpage: HTTP Error 429: Too Many Requests (caused by <HTTPError 429: 'Too Many Requests'>); please report this issue on https://yt-dl.org/bug . Make sure you are using the latest version; see  https://yt-dl.org/update  on how to update. Be sure to call youtube-dl with the --verbose flag and include its complete output.\n"
          ],
          "name": "stderr"
        },
        {
          "output_type": "stream",
          "text": [
            "This song doesnt exists 1\n",
            "[youtube] kXYiU_JCYtU: Downloading webpage\n"
          ],
          "name": "stdout"
        },
        {
          "output_type": "stream",
          "text": [
            "ERROR: Unable to download webpage: HTTP Error 429: Too Many Requests (caused by <HTTPError 429: 'Too Many Requests'>); please report this issue on https://yt-dl.org/bug . Make sure you are using the latest version; see  https://yt-dl.org/update  on how to update. Be sure to call youtube-dl with the --verbose flag and include its complete output.\n"
          ],
          "name": "stderr"
        },
        {
          "output_type": "stream",
          "text": [
            "This song doesnt exists 2\n",
            "This song doesnt exists 3\n",
            "[youtube] kXYiU_JCYtU: Downloading webpage\n"
          ],
          "name": "stdout"
        },
        {
          "output_type": "stream",
          "text": [
            "ERROR: Unable to download webpage: HTTP Error 429: Too Many Requests (caused by <HTTPError 429: 'Too Many Requests'>); please report this issue on https://yt-dl.org/bug . Make sure you are using the latest version; see  https://yt-dl.org/update  on how to update. Be sure to call youtube-dl with the --verbose flag and include its complete output.\n"
          ],
          "name": "stderr"
        },
        {
          "output_type": "stream",
          "text": [
            "This song doesnt exists 4\n",
            "This song doesnt exists 5\n",
            "This song doesnt exists 6\n",
            "[youtube] YVkUvmDQ3HY: Downloading webpage\n"
          ],
          "name": "stdout"
        },
        {
          "output_type": "stream",
          "text": [
            "ERROR: Unable to download webpage: HTTP Error 429: Too Many Requests (caused by <HTTPError 429: 'Too Many Requests'>); please report this issue on https://yt-dl.org/bug . Make sure you are using the latest version; see  https://yt-dl.org/update  on how to update. Be sure to call youtube-dl with the --verbose flag and include its complete output.\n"
          ],
          "name": "stderr"
        },
        {
          "output_type": "stream",
          "text": [
            "This song doesnt exists 7\n",
            "[youtube] gOMhN-hfMtY: Downloading webpage\n"
          ],
          "name": "stdout"
        },
        {
          "output_type": "stream",
          "text": [
            "ERROR: Unable to download webpage: HTTP Error 429: Too Many Requests (caused by <HTTPError 429: 'Too Many Requests'>); please report this issue on https://yt-dl.org/bug . Make sure you are using the latest version; see  https://yt-dl.org/update  on how to update. Be sure to call youtube-dl with the --verbose flag and include its complete output.\n"
          ],
          "name": "stderr"
        },
        {
          "output_type": "stream",
          "text": [
            "This song doesnt exists 8\n",
            "This song doesnt exists 9\n",
            "This song doesnt exists 10\n",
            "This song doesnt exists 11\n",
            "This song doesnt exists 12\n",
            "This song doesnt exists 13\n",
            "This song doesnt exists 14\n",
            "[youtube] v2H4l9RpkwM: Downloading webpage\n"
          ],
          "name": "stdout"
        },
        {
          "output_type": "stream",
          "text": [
            "ERROR: Unable to download webpage: HTTP Error 429: Too Many Requests (caused by <HTTPError 429: 'Too Many Requests'>); please report this issue on https://yt-dl.org/bug . Make sure you are using the latest version; see  https://yt-dl.org/update  on how to update. Be sure to call youtube-dl with the --verbose flag and include its complete output.\n"
          ],
          "name": "stderr"
        },
        {
          "output_type": "stream",
          "text": [
            "This song doesnt exists 15\n",
            "[youtube] 5anLPw0Efmo: Downloading webpage\n"
          ],
          "name": "stdout"
        }
      ]
    },
    {
      "cell_type": "code",
      "metadata": {
        "id": "1oGO17bwcRCj",
        "colab_type": "code",
        "colab": {
          "base_uri": "https://localhost:8080/",
          "height": 655
        },
        "outputId": "feb34abc-4fab-4ebf-f33f-8b1d244a68d8"
      },
      "source": [
        "!zip -r /content/file.zip /content/metal"
      ],
      "execution_count": null,
      "outputs": [
        {
          "output_type": "stream",
          "text": [
            "  adding: content/metal/ (stored 0%)\n",
            "  adding: content/metal/FREDERICA VON STADE - RUSALKA (MOON SONG).mp3 (deflated 0%)\n",
            "  adding: content/metal/MOZART \"Der Hölle Rache kocht...\" (Patricia Petibon).mp3 (deflated 0%)\n",
            "  adding: content/metal/Anna Netrebko - La Bohème (Quando me'n vo') de Puccini.mp3 (deflated 0%)\n",
            "  adding: content/metal/Vincenzo Bellini, Norma, Act I: \"Casta Diva\". Cecilia Bartoli.mp3 (deflated 0%)\n",
            "  adding: content/metal/Wolfgang Amadeus Mozart: Clarinet Concerto in A major, K.622.mp3 (deflated 0%)\n",
            "  adding: content/metal/Maurice Ravel: Bolero / (stored 0%)\n",
            "  adding: content/metal/Maurice Ravel: Bolero / Gustavo Dudamel conducts the Wiener Philharmoniker at Lucerne Festival 2010.mp3 (deflated 0%)\n",
            "  adding: content/metal/Britain's Got Talent S08E01 Lucy Kay Beautiful Opera Singer.mp3 (deflated 0%)\n",
            "  adding: content/metal/Natalie Dessay: Tu del ciel ministro elletto (Handel).mp3 (deflated 0%)\n",
            "  adding: content/metal/Mario Lanza - Una furtiva lagrima.mp3 (deflated 2%)\n",
            "  adding: content/metal/Casta Diva (Maria Callas).mp3 (deflated 0%)\n",
            "  adding: content/metal/Patricia Petibon & Mozart, Vorrei spiegarvi , oh Dio!.mp3 (deflated 0%)\n",
            "  adding: content/metal/Maria Callas, Norma - Casta Diva - Bellini.mp3 (deflated 2%)\n",
            "  adding: content/metal/Patricia Petibon & Mozart, L'ho perduta... me meschina.mp3 (deflated 0%)\n",
            "  adding: content/metal/TN (DSK).mp3 (deflated 11%)\n",
            "  adding: content/metal/Renée Fleming sings Exsultate Jubilate (Mozart).mp3 (deflated 0%)\n",
            "  adding: content/metal/Dopo l'oscuro nembo (Adelson e Salvini, BELLINI) - Elīna GARANČA (score animation).mp3 (deflated 0%)\n",
            "  adding: content/metal/Anna Netrebko in La Wally by Catalani (HD Paris 2007).mp3 (deflated 0%)\n",
            "  adding: content/metal/Joan Sutherland sings Solveig's Song.mp3 (deflated 0%)\n",
            "  adding: content/metal/Itzhak Perlman – Beethoven: Violin Concerto (with Daniel Barenboim, Berliner Philharmoniker).mp3 (deflated 0%)\n",
            "  adding: content/metal/Flower duet - Anna Netrebko & Elina Garanca (Lakmé de Delibes).mp3 (deflated 0%)\n",
            "  adding: content/metal/Natalie Dessay: \"Se pietà\" (Giulio Cesare) - recording session!.mp3 (deflated 0%)\n",
            "  adding: content/metal/Dvořák - Song to the moon - Renée Fleming, Last night of the Proms - SEP 2010.mp3 (deflated 0%)\n",
            "  adding: content/metal/Joan Sutherland \"Casta diva\" from \"Norma\".mp3 (deflated 0%)\n",
            "  adding: content/metal/G.F. Händel - \"Ombra mai fu\" - Sara Mingardo, Accademia degli Astrusi, Federico Ferri dir..mp3 (deflated 0%)\n",
            "  adding: content/metal/Aida Garifullina - Casta Diva - Bellini (Norma).mp3 (deflated 2%)\n",
            "  adding: content/metal/Bizet - Carmen suite.mp3 (deflated 0%)\n",
            "  adding: content/metal/Rossini: L'assedio di Corinto \"Giusto Ciel!\" - Marilyn Horne.mp3 (deflated 0%)\n",
            "  adding: content/metal/Patricia JANEČKOVÁ: \"Les oiseaux dans la charmille\" (Jacques Offenbach - Les contes d' Hoffmann).mp3 (deflated 0%)\n",
            "  adding: content/metal/Renée Fleming: Casta Diva (Bellini).mp3 (deflated 0%)\n",
            "  adding: content/metal/Anna Netrebko, sop. - Grieg: Solveig's Song (2008).mp3 (deflated 0%)\n",
            "  adding: content/metal/Elīna Garanča –  Bellini: 'Dopo l'oscuro nembo' from Adelson e Salvini (Official Video).mp3 (deflated 0%)\n",
            "  adding: content/metal/Top 10 \"Must Know\" Opera Songs.mp3 (deflated 0%)\n",
            "  adding: content/metal/Relaxing piano music | Clair De Lune, Arabesque no.1, Reverie and other works of Claude Debussy - ...mp3 (deflated 0%)\n",
            "  adding: content/metal/Andrea Bocelli, Céline Dion - The Prayer.mp3 (deflated 0%)\n",
            "  adding: content/metal/Puccini: “O mio babbino caro” / (stored 0%)\n",
            "  adding: content/metal/Puccini: “O mio babbino caro” / Fleming · Marin · Berliner Philharmoniker.mp3 (deflated 0%)\n"
          ],
          "name": "stdout"
        }
      ]
    },
    {
      "cell_type": "code",
      "metadata": {
        "id": "qJmtmlJ8cf5R",
        "colab_type": "code",
        "colab": {
          "base_uri": "https://localhost:8080/",
          "height": 17
        },
        "outputId": "06b403a2-02eb-44de-842a-04d8fefc9095"
      },
      "source": [
        "from google.colab import files\n",
        "files.download(\"/content/file.zip\")"
      ],
      "execution_count": null,
      "outputs": [
        {
          "output_type": "display_data",
          "data": {
            "application/javascript": [
              "\n",
              "    async function download(id, filename, size) {\n",
              "      if (!google.colab.kernel.accessAllowed) {\n",
              "        return;\n",
              "      }\n",
              "      const div = document.createElement('div');\n",
              "      const label = document.createElement('label');\n",
              "      label.textContent = `Downloading \"${filename}\": `;\n",
              "      div.appendChild(label);\n",
              "      const progress = document.createElement('progress');\n",
              "      progress.max = size;\n",
              "      div.appendChild(progress);\n",
              "      document.body.appendChild(div);\n",
              "\n",
              "      const buffers = [];\n",
              "      let downloaded = 0;\n",
              "\n",
              "      const channel = await google.colab.kernel.comms.open(id);\n",
              "      // Send a message to notify the kernel that we're ready.\n",
              "      channel.send({})\n",
              "\n",
              "      for await (const message of channel.messages) {\n",
              "        // Send a message to notify the kernel that we're ready.\n",
              "        channel.send({})\n",
              "        if (message.buffers) {\n",
              "          for (const buffer of message.buffers) {\n",
              "            buffers.push(buffer);\n",
              "            downloaded += buffer.byteLength;\n",
              "            progress.value = downloaded;\n",
              "          }\n",
              "        }\n",
              "      }\n",
              "      const blob = new Blob(buffers, {type: 'application/binary'});\n",
              "      const a = document.createElement('a');\n",
              "      a.href = window.URL.createObjectURL(blob);\n",
              "      a.download = filename;\n",
              "      div.appendChild(a);\n",
              "      a.click();\n",
              "      div.remove();\n",
              "    }\n",
              "  "
            ],
            "text/plain": [
              "<IPython.core.display.Javascript object>"
            ]
          },
          "metadata": {
            "tags": []
          }
        },
        {
          "output_type": "display_data",
          "data": {
            "application/javascript": [
              "download(\"download_a73b1272-0e54-4904-bd67-86149724372d\", \"file.zip\", 469055899)"
            ],
            "text/plain": [
              "<IPython.core.display.Javascript object>"
            ]
          },
          "metadata": {
            "tags": []
          }
        }
      ]
    },
    {
      "cell_type": "code",
      "metadata": {
        "id": "VuVcppApa-aD",
        "colab_type": "code",
        "colab": {
          "base_uri": "https://localhost:8080/",
          "height": 458
        },
        "outputId": "0f86e622-650c-457d-f696-67cadf76ba09"
      },
      "source": [
        "!pip install pytube\n",
        "!pip install pytube3\n",
        "import pytube\n",
        "url = 'https://www.youtube.com/watch?v=oygrmJFKYZY&t=16s'\n",
        "youtube = pytube.YouTube(url)\n",
        "video = youtube.streams.get_by_itag(135)\n",
        "video.download('/content/rock')\n",
        "print('done')"
      ],
      "execution_count": null,
      "outputs": [
        {
          "output_type": "stream",
          "text": [
            "Requirement already satisfied: pytube in /usr/local/lib/python3.6/dist-packages (9.6.0)\n",
            "Requirement already satisfied: pytube3 in /usr/local/lib/python3.6/dist-packages (9.6.4)\n",
            "Requirement already satisfied: typing-extensions in /usr/local/lib/python3.6/dist-packages (from pytube3) (3.7.4.3)\n"
          ],
          "name": "stdout"
        },
        {
          "output_type": "error",
          "ename": "HTTPError",
          "evalue": "ignored",
          "traceback": [
            "\u001b[0;31m---------------------------------------------------------------------------\u001b[0m",
            "\u001b[0;31mHTTPError\u001b[0m                                 Traceback (most recent call last)",
            "\u001b[0;32m<ipython-input-3-1cdc1c1846d7>\u001b[0m in \u001b[0;36m<module>\u001b[0;34m()\u001b[0m\n\u001b[1;32m      3\u001b[0m \u001b[0;32mimport\u001b[0m \u001b[0mpytube\u001b[0m\u001b[0;34m\u001b[0m\u001b[0;34m\u001b[0m\u001b[0m\n\u001b[1;32m      4\u001b[0m \u001b[0murl\u001b[0m \u001b[0;34m=\u001b[0m \u001b[0;34m'https://www.youtube.com/watch?v=oygrmJFKYZY'\u001b[0m\u001b[0;34m\u001b[0m\u001b[0;34m\u001b[0m\u001b[0m\n\u001b[0;32m----> 5\u001b[0;31m \u001b[0myoutube\u001b[0m \u001b[0;34m=\u001b[0m \u001b[0mpytube\u001b[0m\u001b[0;34m.\u001b[0m\u001b[0mYouTube\u001b[0m\u001b[0;34m(\u001b[0m\u001b[0murl\u001b[0m\u001b[0;34m)\u001b[0m\u001b[0;34m\u001b[0m\u001b[0;34m\u001b[0m\u001b[0m\n\u001b[0m\u001b[1;32m      6\u001b[0m \u001b[0mvideo\u001b[0m \u001b[0;34m=\u001b[0m \u001b[0myoutube\u001b[0m\u001b[0;34m.\u001b[0m\u001b[0mstreams\u001b[0m\u001b[0;34m.\u001b[0m\u001b[0mget_by_itag\u001b[0m\u001b[0;34m(\u001b[0m\u001b[0;36m135\u001b[0m\u001b[0;34m)\u001b[0m\u001b[0;34m\u001b[0m\u001b[0;34m\u001b[0m\u001b[0m\n\u001b[1;32m      7\u001b[0m \u001b[0mvideo\u001b[0m\u001b[0;34m.\u001b[0m\u001b[0mdownload\u001b[0m\u001b[0;34m(\u001b[0m\u001b[0;34m'/content/rock'\u001b[0m\u001b[0;34m)\u001b[0m\u001b[0;34m\u001b[0m\u001b[0;34m\u001b[0m\u001b[0m\n",
            "\u001b[0;32m/usr/local/lib/python3.6/dist-packages/pytube/__main__.py\u001b[0m in \u001b[0;36m__init__\u001b[0;34m(self, url, defer_prefetch_init, on_progress_callback, on_complete_callback, proxies)\u001b[0m\n\u001b[1;32m     89\u001b[0m \u001b[0;34m\u001b[0m\u001b[0m\n\u001b[1;32m     90\u001b[0m         \u001b[0;32mif\u001b[0m \u001b[0;32mnot\u001b[0m \u001b[0mdefer_prefetch_init\u001b[0m\u001b[0;34m:\u001b[0m\u001b[0;34m\u001b[0m\u001b[0;34m\u001b[0m\u001b[0m\n\u001b[0;32m---> 91\u001b[0;31m             \u001b[0mself\u001b[0m\u001b[0;34m.\u001b[0m\u001b[0mprefetch\u001b[0m\u001b[0;34m(\u001b[0m\u001b[0;34m)\u001b[0m\u001b[0;34m\u001b[0m\u001b[0;34m\u001b[0m\u001b[0m\n\u001b[0m\u001b[1;32m     92\u001b[0m             \u001b[0mself\u001b[0m\u001b[0;34m.\u001b[0m\u001b[0mdescramble\u001b[0m\u001b[0;34m(\u001b[0m\u001b[0;34m)\u001b[0m\u001b[0;34m\u001b[0m\u001b[0;34m\u001b[0m\u001b[0m\n\u001b[1;32m     93\u001b[0m \u001b[0;34m\u001b[0m\u001b[0m\n",
            "\u001b[0;32m/usr/local/lib/python3.6/dist-packages/pytube/__main__.py\u001b[0m in \u001b[0;36mprefetch\u001b[0;34m(self)\u001b[0m\n\u001b[1;32m    160\u001b[0m         \u001b[0;34m:\u001b[0m\u001b[0mrtype\u001b[0m\u001b[0;34m:\u001b[0m \u001b[0;32mNone\u001b[0m\u001b[0;34m\u001b[0m\u001b[0;34m\u001b[0m\u001b[0m\n\u001b[1;32m    161\u001b[0m         \"\"\"\n\u001b[0;32m--> 162\u001b[0;31m         \u001b[0mself\u001b[0m\u001b[0;34m.\u001b[0m\u001b[0mwatch_html\u001b[0m \u001b[0;34m=\u001b[0m \u001b[0mrequest\u001b[0m\u001b[0;34m.\u001b[0m\u001b[0mget\u001b[0m\u001b[0;34m(\u001b[0m\u001b[0murl\u001b[0m\u001b[0;34m=\u001b[0m\u001b[0mself\u001b[0m\u001b[0;34m.\u001b[0m\u001b[0mwatch_url\u001b[0m\u001b[0;34m)\u001b[0m\u001b[0;34m\u001b[0m\u001b[0;34m\u001b[0m\u001b[0m\n\u001b[0m\u001b[1;32m    163\u001b[0m         \u001b[0;32mif\u001b[0m \u001b[0mself\u001b[0m\u001b[0;34m.\u001b[0m\u001b[0mwatch_html\u001b[0m \u001b[0;32mis\u001b[0m \u001b[0;32mNone\u001b[0m\u001b[0;34m:\u001b[0m\u001b[0;34m\u001b[0m\u001b[0;34m\u001b[0m\u001b[0m\n\u001b[1;32m    164\u001b[0m             \u001b[0;32mraise\u001b[0m \u001b[0mVideoUnavailable\u001b[0m\u001b[0;34m(\u001b[0m\u001b[0mvideo_id\u001b[0m\u001b[0;34m=\u001b[0m\u001b[0mself\u001b[0m\u001b[0;34m.\u001b[0m\u001b[0mvideo_id\u001b[0m\u001b[0;34m)\u001b[0m\u001b[0;34m\u001b[0m\u001b[0;34m\u001b[0m\u001b[0m\n",
            "\u001b[0;32m/usr/local/lib/python3.6/dist-packages/pytube/request.py\u001b[0m in \u001b[0;36mget\u001b[0;34m(url)\u001b[0m\n\u001b[1;32m     34\u001b[0m         \u001b[0mUTF\u001b[0m\u001b[0;34m-\u001b[0m\u001b[0;36m8\u001b[0m \u001b[0mencoded\u001b[0m \u001b[0mstring\u001b[0m \u001b[0mof\u001b[0m \u001b[0mresponse\u001b[0m\u001b[0;34m\u001b[0m\u001b[0;34m\u001b[0m\u001b[0m\n\u001b[1;32m     35\u001b[0m     \"\"\"\n\u001b[0;32m---> 36\u001b[0;31m     \u001b[0;32mreturn\u001b[0m \u001b[0m_execute_request\u001b[0m\u001b[0;34m(\u001b[0m\u001b[0murl\u001b[0m\u001b[0;34m)\u001b[0m\u001b[0;34m.\u001b[0m\u001b[0mread\u001b[0m\u001b[0;34m(\u001b[0m\u001b[0;34m)\u001b[0m\u001b[0;34m.\u001b[0m\u001b[0mdecode\u001b[0m\u001b[0;34m(\u001b[0m\u001b[0;34m\"utf-8\"\u001b[0m\u001b[0;34m)\u001b[0m\u001b[0;34m\u001b[0m\u001b[0;34m\u001b[0m\u001b[0m\n\u001b[0m\u001b[1;32m     37\u001b[0m \u001b[0;34m\u001b[0m\u001b[0m\n\u001b[1;32m     38\u001b[0m \u001b[0;34m\u001b[0m\u001b[0m\n",
            "\u001b[0;32m/usr/local/lib/python3.6/dist-packages/pytube/request.py\u001b[0m in \u001b[0;36m_execute_request\u001b[0;34m(url, method, headers)\u001b[0m\n\u001b[1;32m     22\u001b[0m     \u001b[0;32melse\u001b[0m\u001b[0;34m:\u001b[0m\u001b[0;34m\u001b[0m\u001b[0;34m\u001b[0m\u001b[0m\n\u001b[1;32m     23\u001b[0m         \u001b[0;32mraise\u001b[0m \u001b[0mValueError\u001b[0m\u001b[0;34m(\u001b[0m\u001b[0;34m\"Invalid URL\"\u001b[0m\u001b[0;34m)\u001b[0m\u001b[0;34m\u001b[0m\u001b[0;34m\u001b[0m\u001b[0m\n\u001b[0;32m---> 24\u001b[0;31m     \u001b[0;32mreturn\u001b[0m \u001b[0murlopen\u001b[0m\u001b[0;34m(\u001b[0m\u001b[0mrequest\u001b[0m\u001b[0;34m)\u001b[0m  \u001b[0;31m# nosec\u001b[0m\u001b[0;34m\u001b[0m\u001b[0;34m\u001b[0m\u001b[0m\n\u001b[0m\u001b[1;32m     25\u001b[0m \u001b[0;34m\u001b[0m\u001b[0m\n\u001b[1;32m     26\u001b[0m \u001b[0;34m\u001b[0m\u001b[0m\n",
            "\u001b[0;32m/usr/lib/python3.6/urllib/request.py\u001b[0m in \u001b[0;36murlopen\u001b[0;34m(url, data, timeout, cafile, capath, cadefault, context)\u001b[0m\n\u001b[1;32m    221\u001b[0m     \u001b[0;32melse\u001b[0m\u001b[0;34m:\u001b[0m\u001b[0;34m\u001b[0m\u001b[0;34m\u001b[0m\u001b[0m\n\u001b[1;32m    222\u001b[0m         \u001b[0mopener\u001b[0m \u001b[0;34m=\u001b[0m \u001b[0m_opener\u001b[0m\u001b[0;34m\u001b[0m\u001b[0;34m\u001b[0m\u001b[0m\n\u001b[0;32m--> 223\u001b[0;31m     \u001b[0;32mreturn\u001b[0m \u001b[0mopener\u001b[0m\u001b[0;34m.\u001b[0m\u001b[0mopen\u001b[0m\u001b[0;34m(\u001b[0m\u001b[0murl\u001b[0m\u001b[0;34m,\u001b[0m \u001b[0mdata\u001b[0m\u001b[0;34m,\u001b[0m \u001b[0mtimeout\u001b[0m\u001b[0;34m)\u001b[0m\u001b[0;34m\u001b[0m\u001b[0;34m\u001b[0m\u001b[0m\n\u001b[0m\u001b[1;32m    224\u001b[0m \u001b[0;34m\u001b[0m\u001b[0m\n\u001b[1;32m    225\u001b[0m \u001b[0;32mdef\u001b[0m \u001b[0minstall_opener\u001b[0m\u001b[0;34m(\u001b[0m\u001b[0mopener\u001b[0m\u001b[0;34m)\u001b[0m\u001b[0;34m:\u001b[0m\u001b[0;34m\u001b[0m\u001b[0;34m\u001b[0m\u001b[0m\n",
            "\u001b[0;32m/usr/lib/python3.6/urllib/request.py\u001b[0m in \u001b[0;36mopen\u001b[0;34m(self, fullurl, data, timeout)\u001b[0m\n\u001b[1;32m    530\u001b[0m         \u001b[0;32mfor\u001b[0m \u001b[0mprocessor\u001b[0m \u001b[0;32min\u001b[0m \u001b[0mself\u001b[0m\u001b[0;34m.\u001b[0m\u001b[0mprocess_response\u001b[0m\u001b[0;34m.\u001b[0m\u001b[0mget\u001b[0m\u001b[0;34m(\u001b[0m\u001b[0mprotocol\u001b[0m\u001b[0;34m,\u001b[0m \u001b[0;34m[\u001b[0m\u001b[0;34m]\u001b[0m\u001b[0;34m)\u001b[0m\u001b[0;34m:\u001b[0m\u001b[0;34m\u001b[0m\u001b[0;34m\u001b[0m\u001b[0m\n\u001b[1;32m    531\u001b[0m             \u001b[0mmeth\u001b[0m \u001b[0;34m=\u001b[0m \u001b[0mgetattr\u001b[0m\u001b[0;34m(\u001b[0m\u001b[0mprocessor\u001b[0m\u001b[0;34m,\u001b[0m \u001b[0mmeth_name\u001b[0m\u001b[0;34m)\u001b[0m\u001b[0;34m\u001b[0m\u001b[0;34m\u001b[0m\u001b[0m\n\u001b[0;32m--> 532\u001b[0;31m             \u001b[0mresponse\u001b[0m \u001b[0;34m=\u001b[0m \u001b[0mmeth\u001b[0m\u001b[0;34m(\u001b[0m\u001b[0mreq\u001b[0m\u001b[0;34m,\u001b[0m \u001b[0mresponse\u001b[0m\u001b[0;34m)\u001b[0m\u001b[0;34m\u001b[0m\u001b[0;34m\u001b[0m\u001b[0m\n\u001b[0m\u001b[1;32m    533\u001b[0m \u001b[0;34m\u001b[0m\u001b[0m\n\u001b[1;32m    534\u001b[0m         \u001b[0;32mreturn\u001b[0m \u001b[0mresponse\u001b[0m\u001b[0;34m\u001b[0m\u001b[0;34m\u001b[0m\u001b[0m\n",
            "\u001b[0;32m/usr/lib/python3.6/urllib/request.py\u001b[0m in \u001b[0;36mhttp_response\u001b[0;34m(self, request, response)\u001b[0m\n\u001b[1;32m    640\u001b[0m         \u001b[0;32mif\u001b[0m \u001b[0;32mnot\u001b[0m \u001b[0;34m(\u001b[0m\u001b[0;36m200\u001b[0m \u001b[0;34m<=\u001b[0m \u001b[0mcode\u001b[0m \u001b[0;34m<\u001b[0m \u001b[0;36m300\u001b[0m\u001b[0;34m)\u001b[0m\u001b[0;34m:\u001b[0m\u001b[0;34m\u001b[0m\u001b[0;34m\u001b[0m\u001b[0m\n\u001b[1;32m    641\u001b[0m             response = self.parent.error(\n\u001b[0;32m--> 642\u001b[0;31m                 'http', request, response, code, msg, hdrs)\n\u001b[0m\u001b[1;32m    643\u001b[0m \u001b[0;34m\u001b[0m\u001b[0m\n\u001b[1;32m    644\u001b[0m         \u001b[0;32mreturn\u001b[0m \u001b[0mresponse\u001b[0m\u001b[0;34m\u001b[0m\u001b[0;34m\u001b[0m\u001b[0m\n",
            "\u001b[0;32m/usr/lib/python3.6/urllib/request.py\u001b[0m in \u001b[0;36merror\u001b[0;34m(self, proto, *args)\u001b[0m\n\u001b[1;32m    562\u001b[0m             \u001b[0mhttp_err\u001b[0m \u001b[0;34m=\u001b[0m \u001b[0;36m0\u001b[0m\u001b[0;34m\u001b[0m\u001b[0;34m\u001b[0m\u001b[0m\n\u001b[1;32m    563\u001b[0m         \u001b[0margs\u001b[0m \u001b[0;34m=\u001b[0m \u001b[0;34m(\u001b[0m\u001b[0mdict\u001b[0m\u001b[0;34m,\u001b[0m \u001b[0mproto\u001b[0m\u001b[0;34m,\u001b[0m \u001b[0mmeth_name\u001b[0m\u001b[0;34m)\u001b[0m \u001b[0;34m+\u001b[0m \u001b[0margs\u001b[0m\u001b[0;34m\u001b[0m\u001b[0;34m\u001b[0m\u001b[0m\n\u001b[0;32m--> 564\u001b[0;31m         \u001b[0mresult\u001b[0m \u001b[0;34m=\u001b[0m \u001b[0mself\u001b[0m\u001b[0;34m.\u001b[0m\u001b[0m_call_chain\u001b[0m\u001b[0;34m(\u001b[0m\u001b[0;34m*\u001b[0m\u001b[0margs\u001b[0m\u001b[0;34m)\u001b[0m\u001b[0;34m\u001b[0m\u001b[0;34m\u001b[0m\u001b[0m\n\u001b[0m\u001b[1;32m    565\u001b[0m         \u001b[0;32mif\u001b[0m \u001b[0mresult\u001b[0m\u001b[0;34m:\u001b[0m\u001b[0;34m\u001b[0m\u001b[0;34m\u001b[0m\u001b[0m\n\u001b[1;32m    566\u001b[0m             \u001b[0;32mreturn\u001b[0m \u001b[0mresult\u001b[0m\u001b[0;34m\u001b[0m\u001b[0;34m\u001b[0m\u001b[0m\n",
            "\u001b[0;32m/usr/lib/python3.6/urllib/request.py\u001b[0m in \u001b[0;36m_call_chain\u001b[0;34m(self, chain, kind, meth_name, *args)\u001b[0m\n\u001b[1;32m    502\u001b[0m         \u001b[0;32mfor\u001b[0m \u001b[0mhandler\u001b[0m \u001b[0;32min\u001b[0m \u001b[0mhandlers\u001b[0m\u001b[0;34m:\u001b[0m\u001b[0;34m\u001b[0m\u001b[0;34m\u001b[0m\u001b[0m\n\u001b[1;32m    503\u001b[0m             \u001b[0mfunc\u001b[0m \u001b[0;34m=\u001b[0m \u001b[0mgetattr\u001b[0m\u001b[0;34m(\u001b[0m\u001b[0mhandler\u001b[0m\u001b[0;34m,\u001b[0m \u001b[0mmeth_name\u001b[0m\u001b[0;34m)\u001b[0m\u001b[0;34m\u001b[0m\u001b[0;34m\u001b[0m\u001b[0m\n\u001b[0;32m--> 504\u001b[0;31m             \u001b[0mresult\u001b[0m \u001b[0;34m=\u001b[0m \u001b[0mfunc\u001b[0m\u001b[0;34m(\u001b[0m\u001b[0;34m*\u001b[0m\u001b[0margs\u001b[0m\u001b[0;34m)\u001b[0m\u001b[0;34m\u001b[0m\u001b[0;34m\u001b[0m\u001b[0m\n\u001b[0m\u001b[1;32m    505\u001b[0m             \u001b[0;32mif\u001b[0m \u001b[0mresult\u001b[0m \u001b[0;32mis\u001b[0m \u001b[0;32mnot\u001b[0m \u001b[0;32mNone\u001b[0m\u001b[0;34m:\u001b[0m\u001b[0;34m\u001b[0m\u001b[0;34m\u001b[0m\u001b[0m\n\u001b[1;32m    506\u001b[0m                 \u001b[0;32mreturn\u001b[0m \u001b[0mresult\u001b[0m\u001b[0;34m\u001b[0m\u001b[0;34m\u001b[0m\u001b[0m\n",
            "\u001b[0;32m/usr/lib/python3.6/urllib/request.py\u001b[0m in \u001b[0;36mhttp_error_302\u001b[0;34m(self, req, fp, code, msg, headers)\u001b[0m\n\u001b[1;32m    754\u001b[0m         \u001b[0mfp\u001b[0m\u001b[0;34m.\u001b[0m\u001b[0mclose\u001b[0m\u001b[0;34m(\u001b[0m\u001b[0;34m)\u001b[0m\u001b[0;34m\u001b[0m\u001b[0;34m\u001b[0m\u001b[0m\n\u001b[1;32m    755\u001b[0m \u001b[0;34m\u001b[0m\u001b[0m\n\u001b[0;32m--> 756\u001b[0;31m         \u001b[0;32mreturn\u001b[0m \u001b[0mself\u001b[0m\u001b[0;34m.\u001b[0m\u001b[0mparent\u001b[0m\u001b[0;34m.\u001b[0m\u001b[0mopen\u001b[0m\u001b[0;34m(\u001b[0m\u001b[0mnew\u001b[0m\u001b[0;34m,\u001b[0m \u001b[0mtimeout\u001b[0m\u001b[0;34m=\u001b[0m\u001b[0mreq\u001b[0m\u001b[0;34m.\u001b[0m\u001b[0mtimeout\u001b[0m\u001b[0;34m)\u001b[0m\u001b[0;34m\u001b[0m\u001b[0;34m\u001b[0m\u001b[0m\n\u001b[0m\u001b[1;32m    757\u001b[0m \u001b[0;34m\u001b[0m\u001b[0m\n\u001b[1;32m    758\u001b[0m     \u001b[0mhttp_error_301\u001b[0m \u001b[0;34m=\u001b[0m \u001b[0mhttp_error_303\u001b[0m \u001b[0;34m=\u001b[0m \u001b[0mhttp_error_307\u001b[0m \u001b[0;34m=\u001b[0m \u001b[0mhttp_error_302\u001b[0m\u001b[0;34m\u001b[0m\u001b[0;34m\u001b[0m\u001b[0m\n",
            "\u001b[0;32m/usr/lib/python3.6/urllib/request.py\u001b[0m in \u001b[0;36mopen\u001b[0;34m(self, fullurl, data, timeout)\u001b[0m\n\u001b[1;32m    530\u001b[0m         \u001b[0;32mfor\u001b[0m \u001b[0mprocessor\u001b[0m \u001b[0;32min\u001b[0m \u001b[0mself\u001b[0m\u001b[0;34m.\u001b[0m\u001b[0mprocess_response\u001b[0m\u001b[0;34m.\u001b[0m\u001b[0mget\u001b[0m\u001b[0;34m(\u001b[0m\u001b[0mprotocol\u001b[0m\u001b[0;34m,\u001b[0m \u001b[0;34m[\u001b[0m\u001b[0;34m]\u001b[0m\u001b[0;34m)\u001b[0m\u001b[0;34m:\u001b[0m\u001b[0;34m\u001b[0m\u001b[0;34m\u001b[0m\u001b[0m\n\u001b[1;32m    531\u001b[0m             \u001b[0mmeth\u001b[0m \u001b[0;34m=\u001b[0m \u001b[0mgetattr\u001b[0m\u001b[0;34m(\u001b[0m\u001b[0mprocessor\u001b[0m\u001b[0;34m,\u001b[0m \u001b[0mmeth_name\u001b[0m\u001b[0;34m)\u001b[0m\u001b[0;34m\u001b[0m\u001b[0;34m\u001b[0m\u001b[0m\n\u001b[0;32m--> 532\u001b[0;31m             \u001b[0mresponse\u001b[0m \u001b[0;34m=\u001b[0m \u001b[0mmeth\u001b[0m\u001b[0;34m(\u001b[0m\u001b[0mreq\u001b[0m\u001b[0;34m,\u001b[0m \u001b[0mresponse\u001b[0m\u001b[0;34m)\u001b[0m\u001b[0;34m\u001b[0m\u001b[0;34m\u001b[0m\u001b[0m\n\u001b[0m\u001b[1;32m    533\u001b[0m \u001b[0;34m\u001b[0m\u001b[0m\n\u001b[1;32m    534\u001b[0m         \u001b[0;32mreturn\u001b[0m \u001b[0mresponse\u001b[0m\u001b[0;34m\u001b[0m\u001b[0;34m\u001b[0m\u001b[0m\n",
            "\u001b[0;32m/usr/lib/python3.6/urllib/request.py\u001b[0m in \u001b[0;36mhttp_response\u001b[0;34m(self, request, response)\u001b[0m\n\u001b[1;32m    640\u001b[0m         \u001b[0;32mif\u001b[0m \u001b[0;32mnot\u001b[0m \u001b[0;34m(\u001b[0m\u001b[0;36m200\u001b[0m \u001b[0;34m<=\u001b[0m \u001b[0mcode\u001b[0m \u001b[0;34m<\u001b[0m \u001b[0;36m300\u001b[0m\u001b[0;34m)\u001b[0m\u001b[0;34m:\u001b[0m\u001b[0;34m\u001b[0m\u001b[0;34m\u001b[0m\u001b[0m\n\u001b[1;32m    641\u001b[0m             response = self.parent.error(\n\u001b[0;32m--> 642\u001b[0;31m                 'http', request, response, code, msg, hdrs)\n\u001b[0m\u001b[1;32m    643\u001b[0m \u001b[0;34m\u001b[0m\u001b[0m\n\u001b[1;32m    644\u001b[0m         \u001b[0;32mreturn\u001b[0m \u001b[0mresponse\u001b[0m\u001b[0;34m\u001b[0m\u001b[0;34m\u001b[0m\u001b[0m\n",
            "\u001b[0;32m/usr/lib/python3.6/urllib/request.py\u001b[0m in \u001b[0;36merror\u001b[0;34m(self, proto, *args)\u001b[0m\n\u001b[1;32m    568\u001b[0m         \u001b[0;32mif\u001b[0m \u001b[0mhttp_err\u001b[0m\u001b[0;34m:\u001b[0m\u001b[0;34m\u001b[0m\u001b[0;34m\u001b[0m\u001b[0m\n\u001b[1;32m    569\u001b[0m             \u001b[0margs\u001b[0m \u001b[0;34m=\u001b[0m \u001b[0;34m(\u001b[0m\u001b[0mdict\u001b[0m\u001b[0;34m,\u001b[0m \u001b[0;34m'default'\u001b[0m\u001b[0;34m,\u001b[0m \u001b[0;34m'http_error_default'\u001b[0m\u001b[0;34m)\u001b[0m \u001b[0;34m+\u001b[0m \u001b[0morig_args\u001b[0m\u001b[0;34m\u001b[0m\u001b[0;34m\u001b[0m\u001b[0m\n\u001b[0;32m--> 570\u001b[0;31m             \u001b[0;32mreturn\u001b[0m \u001b[0mself\u001b[0m\u001b[0;34m.\u001b[0m\u001b[0m_call_chain\u001b[0m\u001b[0;34m(\u001b[0m\u001b[0;34m*\u001b[0m\u001b[0margs\u001b[0m\u001b[0;34m)\u001b[0m\u001b[0;34m\u001b[0m\u001b[0;34m\u001b[0m\u001b[0m\n\u001b[0m\u001b[1;32m    571\u001b[0m \u001b[0;34m\u001b[0m\u001b[0m\n\u001b[1;32m    572\u001b[0m \u001b[0;31m# XXX probably also want an abstract factory that knows when it makes\u001b[0m\u001b[0;34m\u001b[0m\u001b[0;34m\u001b[0m\u001b[0;34m\u001b[0m\u001b[0m\n",
            "\u001b[0;32m/usr/lib/python3.6/urllib/request.py\u001b[0m in \u001b[0;36m_call_chain\u001b[0;34m(self, chain, kind, meth_name, *args)\u001b[0m\n\u001b[1;32m    502\u001b[0m         \u001b[0;32mfor\u001b[0m \u001b[0mhandler\u001b[0m \u001b[0;32min\u001b[0m \u001b[0mhandlers\u001b[0m\u001b[0;34m:\u001b[0m\u001b[0;34m\u001b[0m\u001b[0;34m\u001b[0m\u001b[0m\n\u001b[1;32m    503\u001b[0m             \u001b[0mfunc\u001b[0m \u001b[0;34m=\u001b[0m \u001b[0mgetattr\u001b[0m\u001b[0;34m(\u001b[0m\u001b[0mhandler\u001b[0m\u001b[0;34m,\u001b[0m \u001b[0mmeth_name\u001b[0m\u001b[0;34m)\u001b[0m\u001b[0;34m\u001b[0m\u001b[0;34m\u001b[0m\u001b[0m\n\u001b[0;32m--> 504\u001b[0;31m             \u001b[0mresult\u001b[0m \u001b[0;34m=\u001b[0m \u001b[0mfunc\u001b[0m\u001b[0;34m(\u001b[0m\u001b[0;34m*\u001b[0m\u001b[0margs\u001b[0m\u001b[0;34m)\u001b[0m\u001b[0;34m\u001b[0m\u001b[0;34m\u001b[0m\u001b[0m\n\u001b[0m\u001b[1;32m    505\u001b[0m             \u001b[0;32mif\u001b[0m \u001b[0mresult\u001b[0m \u001b[0;32mis\u001b[0m \u001b[0;32mnot\u001b[0m \u001b[0;32mNone\u001b[0m\u001b[0;34m:\u001b[0m\u001b[0;34m\u001b[0m\u001b[0;34m\u001b[0m\u001b[0m\n\u001b[1;32m    506\u001b[0m                 \u001b[0;32mreturn\u001b[0m \u001b[0mresult\u001b[0m\u001b[0;34m\u001b[0m\u001b[0;34m\u001b[0m\u001b[0m\n",
            "\u001b[0;32m/usr/lib/python3.6/urllib/request.py\u001b[0m in \u001b[0;36mhttp_error_default\u001b[0;34m(self, req, fp, code, msg, hdrs)\u001b[0m\n\u001b[1;32m    648\u001b[0m \u001b[0;32mclass\u001b[0m \u001b[0mHTTPDefaultErrorHandler\u001b[0m\u001b[0;34m(\u001b[0m\u001b[0mBaseHandler\u001b[0m\u001b[0;34m)\u001b[0m\u001b[0;34m:\u001b[0m\u001b[0;34m\u001b[0m\u001b[0;34m\u001b[0m\u001b[0m\n\u001b[1;32m    649\u001b[0m     \u001b[0;32mdef\u001b[0m \u001b[0mhttp_error_default\u001b[0m\u001b[0;34m(\u001b[0m\u001b[0mself\u001b[0m\u001b[0;34m,\u001b[0m \u001b[0mreq\u001b[0m\u001b[0;34m,\u001b[0m \u001b[0mfp\u001b[0m\u001b[0;34m,\u001b[0m \u001b[0mcode\u001b[0m\u001b[0;34m,\u001b[0m \u001b[0mmsg\u001b[0m\u001b[0;34m,\u001b[0m \u001b[0mhdrs\u001b[0m\u001b[0;34m)\u001b[0m\u001b[0;34m:\u001b[0m\u001b[0;34m\u001b[0m\u001b[0;34m\u001b[0m\u001b[0m\n\u001b[0;32m--> 650\u001b[0;31m         \u001b[0;32mraise\u001b[0m \u001b[0mHTTPError\u001b[0m\u001b[0;34m(\u001b[0m\u001b[0mreq\u001b[0m\u001b[0;34m.\u001b[0m\u001b[0mfull_url\u001b[0m\u001b[0;34m,\u001b[0m \u001b[0mcode\u001b[0m\u001b[0;34m,\u001b[0m \u001b[0mmsg\u001b[0m\u001b[0;34m,\u001b[0m \u001b[0mhdrs\u001b[0m\u001b[0;34m,\u001b[0m \u001b[0mfp\u001b[0m\u001b[0;34m)\u001b[0m\u001b[0;34m\u001b[0m\u001b[0;34m\u001b[0m\u001b[0m\n\u001b[0m\u001b[1;32m    651\u001b[0m \u001b[0;34m\u001b[0m\u001b[0m\n\u001b[1;32m    652\u001b[0m \u001b[0;32mclass\u001b[0m \u001b[0mHTTPRedirectHandler\u001b[0m\u001b[0;34m(\u001b[0m\u001b[0mBaseHandler\u001b[0m\u001b[0;34m)\u001b[0m\u001b[0;34m:\u001b[0m\u001b[0;34m\u001b[0m\u001b[0;34m\u001b[0m\u001b[0m\n",
            "\u001b[0;31mHTTPError\u001b[0m: HTTP Error 429: Too Many Requests"
          ]
        }
      ]
    }
  ]
}